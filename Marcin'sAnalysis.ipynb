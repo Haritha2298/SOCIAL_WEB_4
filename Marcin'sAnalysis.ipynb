{
 "cells": [
  {
   "cell_type": "code",
   "execution_count": 42,
   "metadata": {},
   "outputs": [],
   "source": [
    "DEBUG = True"
   ]
  },
  {
   "cell_type": "code",
   "execution_count": 62,
   "metadata": {},
   "outputs": [
    {
     "name": "stdout",
     "output_type": "stream",
     "text": [
      "['tagId', 'tag']\n",
      "Processed 1129 lines.\n",
      "007 (series) \n",
      "18th century\n"
     ]
    }
   ],
   "source": [
    "import csv\n",
    "\n",
    "genome_tags_count = 1129\n",
    "genome_tags = [0] * (genome_tags_count + 1)\n",
    "\n",
    "with open('genome-tags.csv') as csv_file:\n",
    "    csv_reader = csv.reader(csv_file, delimiter=',')\n",
    "    line_count = 0\n",
    "    for row in csv_reader:\n",
    "        if line_count == 0:\n",
    "            print(row)\n",
    "            line_count += 1\n",
    "        else:\n",
    "            tagId = int(row[0])\n",
    "            genome_tags[tagId] = row[1]\n",
    "            line_count += 1\n",
    "    print(f'Processed {line_count} lines.')\n",
    "\n",
    "if DEBUG:\n",
    "    print(genome_tags[2], \"\\n\" + genome_tags[3])"
   ]
  },
  {
   "cell_type": "code",
   "execution_count": 63,
   "metadata": {},
   "outputs": [],
   "source": [
    "Genres = ['Action', 'Adventure', 'Animation', 'Children\\'s', \n",
    "          'Comedy', 'Crime', 'Documentary', 'Drama', 'Fantasy',\n",
    "          'Film-Noir', 'Horror', 'Musical', 'Mystery', 'Romance',\n",
    "          'Sci-Fi', 'Thriller', 'War', 'Western', '(no genres listed)']"
   ]
  },
  {
   "cell_type": "code",
   "execution_count": 66,
   "metadata": {},
   "outputs": [
    {
     "name": "stdout",
     "output_type": "stream",
     "text": [
      "['movieId', 'title', 'genres']\n",
      "Processed 62424 lines.\n",
      "[\"Women of Devil's Island (1962)\", ['Action', 'Adventure', 'Drama']] \n",
      " ['Grumpier Old Men (1995)', ['Comedy', 'Romance']]\n",
      "209171\n"
     ]
    }
   ],
   "source": [
    "movies_count = 209171\n",
    "movies = [0] * (movies_count + 1)\n",
    "biggest = 0\n",
    "\n",
    "with open('movies.csv') as csv_file:\n",
    "    csv_reader = csv.reader(csv_file, delimiter=',')\n",
    "    line_count = 0\n",
    "    for row in csv_reader:\n",
    "        if line_count == 0:\n",
    "            print(row)\n",
    "            line_count += 1\n",
    "        else:\n",
    "            biggest = max(biggest, int(row[0]))\n",
    "            movieId = int(row[0])\n",
    "            movies[movieId] = [0] * 2\n",
    "            movies[movieId][0] = row[1]\n",
    "            movies[movieId][1] = []\n",
    "            genres = row[2].split('|')\n",
    "            for g in genres:\n",
    "                movies[movieId][1].append(g)\n",
    "            line_count += 1\n",
    "    print(f'Processed {line_count} lines.')\n",
    "\n",
    "if DEBUG:\n",
    "    print(movies[movies_count], \"\\n\", movies[3])\n",
    "    print(biggest)"
   ]
  },
  {
   "cell_type": "code",
   "execution_count": 70,
   "metadata": {},
   "outputs": [
    {
     "name": "stdout",
     "output_type": "stream",
     "text": [
      "Processed 15584449 lines.\n",
      "0.023749999999999993 \n",
      " 0.05125000000000002\n"
     ]
    }
   ],
   "source": [
    "genome_scores = [0] * movies_count\n",
    "biggest = 0\n",
    "    \n",
    "with open('genome-scores.csv') as csv_file:\n",
    "    csv_reader = csv.reader(csv_file, delimiter=',')\n",
    "    line_count = 0\n",
    "    for row in csv_reader:\n",
    "        if line_count == 0:\n",
    "            line_count += 1\n",
    "        else:\n",
    "            movieId = int(row[0])\n",
    "            biggest = max(movieId, biggest)\n",
    "            if genome_scores[movieId] == 0:\n",
    "                genome_scores[movieId] = [0] * genome_tags_count\n",
    "            tagId = int(row[1])\n",
    "            genome_scores[movieId][tagId] = float(row[2])\n",
    "            line_count += 1\n",
    "    print(f'Processed {line_count} lines.')\n",
    "\n",
    "if DEBUG:\n",
    "    print(genome_scores[1][2], \"\\n\", genome_scores[biggest][343])"
   ]
  },
  {
   "cell_type": "code",
   "execution_count": 87,
   "metadata": {},
   "outputs": [
    {
     "name": "stdout",
     "output_type": "stream",
     "text": [
      "0\n",
      "1000000\n",
      "2000000\n",
      "3000000\n",
      "4000000\n",
      "5000000\n",
      "6000000\n",
      "7000000\n",
      "8000000\n",
      "9000000\n",
      "10000000\n",
      "11000000\n",
      "12000000\n",
      "13000000\n",
      "14000000\n",
      "15000000\n",
      "16000000\n",
      "17000000\n",
      "18000000\n",
      "19000000\n",
      "20000000\n",
      "21000000\n",
      "22000000\n",
      "23000000\n",
      "24000000\n",
      "25000000\n",
      "Processed 25000096 lines.\n",
      "1 {296: (5.0, 1147880044), 306: (3.5, 1147868817), 307: (5.0, 1147868828), 665: (5.0, 1147878820), 899: (3.5, 1147868510), 1088: (4.0, 1147868495), 1175: (3.5, 1147868826), 1217: (3.5, 1147878326), 1237: (5.0, 1147868839), 1250: (4.0, 1147868414), 1260: (3.5, 1147877857), 1653: (4.0, 1147868097), 2011: (2.5, 1147868079), 2012: (2.5, 1147868068), 2068: (2.5, 1147869044), 2161: (3.5, 1147868609), 2351: (4.5, 1147877957), 2573: (4.0, 1147878923), 2632: (5.0, 1147878248), 2692: (5.0, 1147869100), 2843: (4.5, 1147868891), 3448: (4.0, 1147868480), 3569: (5.0, 1147879603), 3949: (5.0, 1147868678), 4144: (5.0, 1147868898), 4308: (3.0, 1147868534), 4325: (5.0, 1147878122), 4422: (3.0, 1147869048), 4703: (4.0, 1147869223), 4973: (4.5, 1147869080), 5147: (4.0, 1147877654), 5269: (0.5, 1147879571), 5684: (2.0, 1147879797), 5767: (5.0, 1147878729), 5878: (4.0, 1147868807), 5912: (3.0, 1147878698), 5952: (4.0, 1147868053), 6016: (5.0, 1147869090), 6370: (4.5, 1147869191), 6377: (4.0, 1147868469), 6539: (3.5, 1147868461), 6711: (5.0, 1147868622), 6954: (3.5, 1147869150), 7209: (4.0, 1147877986), 7234: (4.5, 1147868869), 7318: (2.0, 1147879850), 7323: (3.5, 1147869119), 7327: (3.5, 1147868855), 7361: (5.0, 1147880055), 7365: (4.0, 1147869033), 7820: (2.5, 1147878050), 7937: (3.0, 1147878055), 7938: (2.5, 1147878063), 7939: (2.5, 1147869183), 7940: (4.5, 1147877967), 8014: (3.5, 1147869155), 8154: (5.0, 1147868865), 8327: (5.0, 1147879375), 8360: (4.0, 1147868682), 8405: (3.5, 1147878095), 8685: (1.0, 1147878023), 8729: (3.5, 1147878452), 8786: (4.0, 1147877853), 8873: (3.0, 1147869094), 8973: (4.0, 1147869211), 27193: (3.0, 1147879774), 27266: (4.5, 1147879365), 27721: (3.0, 1147869115), 31956: (3.5, 1147877610), 32591: (5.0, 1147879538)} \n",
      " 162541 {29: (5.0, 1240953540), 32: (5.0, 1240949283), 47: (4.5, 1240953606), 50: (5.0, 1240953428), 105: (2.5, 1240947359), 141: (2.5, 1240952466), 145: (3.0, 1240951566), 150: (3.5, 1240951093), 153: (2.5, 1240951808), 208: (1.0, 1240953008), 260: (5.0, 1240952836), 261: (3.5, 1240946774), 293: (4.0, 1240953789), 296: (3.5, 1240953510), 318: (4.0, 1240952695), 344: (0.5, 1240949530), 345: (4.5, 1240950041), 410: (1.5, 1240949573), 412: (3.5, 1240950184), 416: (1.5, 1240951583), 485: (2.5, 1240953126), 527: (4.5, 1240953464), 541: (5.0, 1240952537), 590: (3.0, 1240953047), 592: (2.0, 1240951788), 593: (4.0, 1240953576), 616: (3.5, 1240951140), 674: (4.0, 1240951697), 724: (2.5, 1240947514), 737: (0.5, 1240951690), 745: (4.0, 1240953469), 900: (4.0, 1240950880), 914: (4.0, 1240947390), 924: (3.0, 1240949338), 969: (4.0, 1240947363), 1029: (3.5, 1240947440), 1042: (3.5, 1240947457), 1047: (1.5, 1240947418), 1092: (1.0, 1240951752), 1127: (2.5, 1240949511), 1129: (3.5, 1240947461), 1136: (4.5, 1240953505), 1148: (4.0, 1240953496), 1172: (4.5, 1240947465), 1196: (5.0, 1240952840), 1197: (4.5, 1240953534), 1198: (4.5, 1240953444), 1200: (4.0, 1240950432), 1201: (3.0, 1240953800), 1208: (3.5, 1240951088), 1210: (3.5, 1240952843), 1214: (4.0, 1240950409), 1215: (3.5, 1240951155), 1216: (4.0, 1240952220), 1225: (3.0, 1240950706), 1230: (3.5, 1240951041), 1238: (3.5, 1240953130), 1249: (4.5, 1240947393), 1259: (4.5, 1240953609), 1266: (5.0, 1240953613), 1270: (4.0, 1240951522), 1274: (4.0, 1240950326), 1275: (4.5, 1240952554), 1293: (4.0, 1240947397), 1320: (2.5, 1240950444), 1321: (2.5, 1240950870), 1367: (3.0, 1240949272), 1377: (2.5, 1240951801), 1441: (4.0, 1240952102), 1556: (1.0, 1240953650), 1562: (2.0, 1240951781), 1608: (1.5, 1240950215), 1617: (4.5, 1240953562), 1639: (4.0, 1240952652), 1690: (2.0, 1240950428), 1704: (4.0, 1240952634), 1729: (3.5, 1240946758), 1732: (4.0, 1240952354), 1784: (4.5, 1240951286), 1917: (3.0, 1240951147), 2011: (2.5, 1240951539), 2012: (3.5, 1240951543), 2072: (1.5, 1240949203), 2080: (4.0, 1240947410), 2105: (4.5, 1240947373), 2124: (2.5, 1240949568), 2161: (5.0, 1240947377), 2174: (2.5, 1240952017), 2294: (2.5, 1240951065), 2324: (4.5, 1240953595), 2329: (4.5, 1240950831), 2352: (2.5, 1240952298), 2396: (4.0, 1240952712), 2407: (3.0, 1240946787), 2539: (1.0, 1240950911), 2571: (5.0, 1240953087), 2628: (3.0, 1240952849), 2683: (1.5, 1240951365), 2699: (1.0, 1240951121), 2748: (0.5, 1240950644), 2788: (4.5, 1240953598), 2791: (3.5, 1240950224), 2792: (3.0, 1240950233), 2797: (3.0, 1240952212), 2819: (3.5, 1240949371), 2858: (5.0, 1240950804), 2947: (1.5, 1240946764), 2959: (5.0, 1240953488), 2968: (4.0, 1240947487), 2997: (5.0, 1240952040), 3039: (2.0, 1240947491), 3052: (5.0, 1240952578), 3105: (3.0, 1240951414), 3107: (2.5, 1240951550), 3155: (1.0, 1240951032), 3173: (4.0, 1240951068), 3179: (2.5, 1240950985), 3255: (4.0, 1240947380), 3421: (3.5, 1240951007), 3478: (4.0, 1240951642), 3534: (2.0, 1240949356), 3701: (4.0, 1240950422), 3705: (1.5, 1240952457), 3740: (2.5, 1240952390), 3824: (2.0, 1240951385), 3841: (2.0, 1240950204), 3897: (4.0, 1240950657), 3996: (5.0, 1240953168), 4079: (3.0, 1240950781), 4080: (3.0, 1240951478), 4084: (1.0, 1240952170), 4085: (2.0, 1240952160), 4226: (4.0, 1240953451), 4370: (0.5, 1240949454), 4464: (4.0, 1240949520), 4467: (3.0, 1240949583), 4476: (2.5, 1240952265), 4478: (2.0, 1240952437), 4479: (4.0, 1240952447), 4529: (4.0, 1240951622), 4571: (4.0, 1240952411), 4639: (3.0, 1240950799), 4973: (4.5, 1240950790), 4980: (4.0, 1240952408), 4993: (5.0, 1240952610), 4995: (5.0, 1240951903), 5049: (1.5, 1240949402), 5378: (2.5, 1240952856), 5610: (2.0, 1240951668), 5618: (4.5, 1240953299), 5689: (4.0, 1240952425), 5927: (1.5, 1240952124), 5952: (5.0, 1240952617), 5971: (4.0, 1240953309), 6104: (5.0, 1240953565), 6218: (3.0, 1240952092), 6365: (4.0, 1240953096), 6440: (4.5, 1240951746), 6548: (3.0, 1240951570), 6791: (4.5, 1240951469), 6793: (0.5, 1240952009), 6934: (2.0, 1240953104), 7042: (3.5, 1240952153), 7090: (4.5, 1240953139), 7147: (4.5, 1240952343), 7153: (5.0, 1240952613), 7173: (1.5, 1240950668), 7193: (5.0, 1240950032), 7361: (4.5, 1240953484), 8610: (2.5, 1240950626), 8905: (3.0, 1240949310), 8961: (4.0, 1240953338), 8983: (4.5, 1240953211), 31658: (4.5, 1240953287), 33794: (4.0, 1240951792), 41566: (4.0, 1240952749), 45517: (4.5, 1240953353), 50872: (4.5, 1240953372), 55768: (2.5, 1240951998), 56176: (2.0, 1240950697), 58559: (4.0, 1240953434), 63876: (5.0, 1240952515)}\n"
     ]
    }
   ],
   "source": [
    "users_count = 189169\n",
    "smallest = users_count + 1\n",
    "biggest = 0\n",
    "ratings = {}\n",
    "    \n",
    "with open('ratings.csv') as csv_file:\n",
    "    csv_reader = csv.reader(csv_file, delimiter=',')\n",
    "    line_count = 0\n",
    "    for row in csv_reader:\n",
    "        if line_count % 1000000 == 0 and DEBUG:\n",
    "            print(line_count)\n",
    "        if line_count == 0:\n",
    "            line_count += 1\n",
    "        else:\n",
    "            userId = int(row[0])\n",
    "            smallest = min(smallest, userId)\n",
    "            biggest = max(biggest, userId)\n",
    "            movieId = int(row[1])\n",
    "            rating = float(row[2])\n",
    "            timestamp = int(row[3])\n",
    "            if userId not in ratings:\n",
    "                ratings[userId] = {}\n",
    "            ratings[userId][movieId] = (rating, timestamp)\n",
    "            line_count += 1\n",
    "    print(f'Processed {line_count} lines.')\n",
    "\n",
    "if DEBUG:\n",
    "    print(smallest, ratings[smallest], \"\\n\", biggest, ratings[biggest]) "
   ]
  },
  {
   "cell_type": "code",
   "execution_count": 88,
   "metadata": {},
   "outputs": [
    {
     "name": "stdout",
     "output_type": "stream",
     "text": [
      "Processed 1093361 lines.\n",
      "{260: ('sci-fi', 1439472256)} \n",
      " {189169: ('robbery', 1527518193)}\n"
     ]
    }
   ],
   "source": [
    "tags = {}\n",
    "smallest = users_count + 1\n",
    "biggest = 0\n",
    "    \n",
    "with open('tags.csv') as csv_file:\n",
    "    csv_reader = csv.reader(csv_file, delimiter=',')\n",
    "    line_count = 0\n",
    "    for row in csv_reader:\n",
    "        if line_count == 0:\n",
    "            line_count += 1\n",
    "        else:\n",
    "            userId = int(row[0])\n",
    "            smallest = min(smallest, userId)\n",
    "            biggest = max(biggest, userId)\n",
    "            movieId = int(row[1])\n",
    "            tag = row[2]\n",
    "            timestamp = int(row[3])\n",
    "            if userId not in tags:\n",
    "                tags[userId] = {}\n",
    "            tags[userId][movieId] = (tag, timestamp)\n",
    "            line_count += 1\n",
    "    print(f'Processed {line_count} lines.')\n",
    "\n",
    "if DEBUG:\n",
    "    print(tags[smallest], \"\\n\", tags[biggest]) "
   ]
  },
  {
   "cell_type": "code",
   "execution_count": 92,
   "metadata": {},
   "outputs": [
    {
     "data": {
      "text/plain": [
       "14592"
      ]
     },
     "execution_count": 92,
     "metadata": {},
     "output_type": "execute_result"
    }
   ],
   "source": [
    "len(tags)"
   ]
  },
  {
   "cell_type": "code",
   "execution_count": 131,
   "metadata": {},
   "outputs": [],
   "source": [
    "import statistics as stat\n",
    "userStats = {}\n",
    "how_many_zeros = 0\n",
    "\n",
    "for i in range(users_count + 1):\n",
    "#   Comment: if i not in ratings => then #ratings = #tags = 0 for user i\n",
    "    if i not in ratings:\n",
    "        continue\n",
    "    ratingsSize = len(ratings[i])\n",
    "    tagsSize = (len(tags[i]) if i in tags else 0)\n",
    "    avgGrade = stat.mean([x for (x, _) in ratings[i].values()])\n",
    "    userStats[i] = (ratingsSize, tagsSize, avgGrade)\n",
    "    "
   ]
  },
  {
   "cell_type": "code",
   "execution_count": 135,
   "metadata": {},
   "outputs": [],
   "source": [
    "f = open(\"userStats.txt\", \"w+\")\n",
    "for (k, (x, y, z)) in userStats.items():\n",
    "    f.write(str(k) + \",\" + str(x) + \",\" +  str(y) +  \",\" +  str(z) + \"\\n\")\n",
    "f.close()"
   ]
  }
 ],
 "metadata": {
  "kernelspec": {
   "display_name": "Python 3",
   "language": "python",
   "name": "python3"
  },
  "language_info": {
   "codemirror_mode": {
    "name": "ipython",
    "version": 3
   },
   "file_extension": ".py",
   "mimetype": "text/x-python",
   "name": "python",
   "nbconvert_exporter": "python",
   "pygments_lexer": "ipython3",
   "version": "3.7.4"
  }
 },
 "nbformat": 4,
 "nbformat_minor": 2
}
