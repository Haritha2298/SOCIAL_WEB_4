{
 "cells": [
  {
   "cell_type": "code",
   "execution_count": 42,
   "metadata": {},
   "outputs": [],
   "source": [
    "DEBUG = True"
   ]
  },
  {
   "cell_type": "code",
   "execution_count": 62,
   "metadata": {},
   "outputs": [
    {
     "name": "stdout",
     "output_type": "stream",
     "text": [
      "['tagId', 'tag']\n",
      "Processed 1129 lines.\n",
      "007 (series) \n",
      "18th century\n"
     ]
    }
   ],
   "source": [
    "import csv\n",
    "\n",
    "genome_tags_count = 1129\n",
    "genome_tags = [0] * (genome_tags_count + 1)\n",
    "\n",
    "with open('genome-tags.csv') as csv_file:\n",
    "    csv_reader = csv.reader(csv_file, delimiter=',')\n",
    "    line_count = 0\n",
    "    for row in csv_reader:\n",
    "        if line_count == 0:\n",
    "            print(row)\n",
    "            line_count += 1\n",
    "        else:\n",
    "            tagId = int(row[0])\n",
    "            genome_tags[tagId] = row[1]\n",
    "            line_count += 1\n",
    "    print(f'Processed {line_count} lines.')\n",
    "\n",
    "if DEBUG:\n",
    "    print(genome_tags[2], \"\\n\" + genome_tags[3])"
   ]
  },
  {
   "cell_type": "code",
   "execution_count": 63,
   "metadata": {},
   "outputs": [],
   "source": [
    "Genres = ['Action', 'Adventure', 'Animation', 'Children\\'s', \n",
    "          'Comedy', 'Crime', 'Documentary', 'Drama', 'Fantasy',\n",
    "          'Film-Noir', 'Horror', 'Musical', 'Mystery', 'Romance',\n",
    "          'Sci-Fi', 'Thriller', 'War', 'Western', '(no genres listed)']"
   ]
  },
  {
   "cell_type": "code",
   "execution_count": 66,
   "metadata": {},
   "outputs": [
    {
     "name": "stdout",
     "output_type": "stream",
     "text": [
      "['movieId', 'title', 'genres']\n",
      "Processed 62424 lines.\n",
      "[\"Women of Devil's Island (1962)\", ['Action', 'Adventure', 'Drama']] \n",
      " ['Grumpier Old Men (1995)', ['Comedy', 'Romance']]\n",
      "209171\n"
     ]
    }
   ],
   "source": [
    "movies_count = 209171\n",
    "movies = [0] * (movies_count + 1)\n",
    "biggest = 0\n",
    "\n",
    "with open('movies.csv') as csv_file:\n",
    "    csv_reader = csv.reader(csv_file, delimiter=',')\n",
    "    line_count = 0\n",
    "    for row in csv_reader:\n",
    "        if line_count == 0:\n",
    "            print(row)\n",
    "            line_count += 1\n",
    "        else:\n",
    "            biggest = max(biggest, int(row[0]))\n",
    "            movieId = int(row[0])\n",
    "            movies[movieId] = [0] * 2\n",
    "            movies[movieId][0] = row[1]\n",
    "            movies[movieId][1] = []\n",
    "            genres = row[2].split('|')\n",
    "            for g in genres:\n",
    "                movies[movieId][1].append(g)\n",
    "            line_count += 1\n",
    "    print(f'Processed {line_count} lines.')\n",
    "\n",
    "if DEBUG:\n",
    "    print(movies[movies_count], \"\\n\", movies[3])\n",
    "    print(biggest)"
   ]
  },
  {
   "cell_type": "code",
   "execution_count": 70,
   "metadata": {},
   "outputs": [
    {
     "name": "stdout",
     "output_type": "stream",
     "text": [
      "Processed 15584449 lines.\n",
      "0.023749999999999993 \n",
      " 0.05125000000000002\n"
     ]
    }
   ],
   "source": [
    "genome_scores = [0] * movies_count\n",
    "biggest = 0\n",
    "    \n",
    "with open('genome-scores.csv') as csv_file:\n",
    "    csv_reader = csv.reader(csv_file, delimiter=',')\n",
    "    line_count = 0\n",
    "    for row in csv_reader:\n",
    "        if line_count == 0:\n",
    "            line_count += 1\n",
    "        else:\n",
    "            movieId = int(row[0])\n",
    "            biggest = max(movieId, biggest)\n",
    "            if genome_scores[movieId] == 0:\n",
    "                genome_scores[movieId] = [0] * genome_tags_count\n",
    "            tagId = int(row[1])\n",
    "            genome_scores[movieId][tagId] = float(row[2])\n",
    "            line_count += 1\n",
    "    print(f'Processed {line_count} lines.')\n",
    "\n",
    "if DEBUG:\n",
    "    print(genome_scores[1][2], \"\\n\", genome_scores[biggest][343])"
   ]
  },
  {
   "cell_type": "code",
   "execution_count": 87,
   "metadata": {},
   "outputs": [
    {
     "name": "stdout",
     "output_type": "stream",
     "text": [
      "0\n",
      "1000000\n",
      "2000000\n",
      "3000000\n",
      "4000000\n",
      "5000000\n",
      "6000000\n",
      "7000000\n",
      "8000000\n",
      "9000000\n",
      "10000000\n",
      "11000000\n",
      "12000000\n",
      "13000000\n",
      "14000000\n",
      "15000000\n",
      "16000000\n",
      "17000000\n",
      "18000000\n",
      "19000000\n",
      "20000000\n",
      "21000000\n",
      "22000000\n",
      "23000000\n",
      "24000000\n",
      "25000000\n",
      "Processed 25000096 lines.\n",
      "1 {296: (5.0, 1147880044), 306: (3.5, 1147868817), 307: (5.0, 1147868828), 665: (5.0, 1147878820), 899: (3.5, 1147868510), 1088: (4.0, 1147868495), 1175: (3.5, 1147868826), 1217: (3.5, 1147878326), 1237: (5.0, 1147868839), 1250: (4.0, 1147868414), 1260: (3.5, 1147877857), 1653: (4.0, 1147868097), 2011: (2.5, 1147868079), 2012: (2.5, 1147868068), 2068: (2.5, 1147869044), 2161: (3.5, 1147868609), 2351: (4.5, 1147877957), 2573: (4.0, 1147878923), 2632: (5.0, 1147878248), 2692: (5.0, 1147869100), 2843: (4.5, 1147868891), 3448: (4.0, 1147868480), 3569: (5.0, 1147879603), 3949: (5.0, 1147868678), 4144: (5.0, 1147868898), 4308: (3.0, 1147868534), 4325: (5.0, 1147878122), 4422: (3.0, 1147869048), 4703: (4.0, 1147869223), 4973: (4.5, 1147869080), 5147: (4.0, 1147877654), 5269: (0.5, 1147879571), 5684: (2.0, 1147879797), 5767: (5.0, 1147878729), 5878: (4.0, 1147868807), 5912: (3.0, 1147878698), 5952: (4.0, 1147868053), 6016: (5.0, 1147869090), 6370: (4.5, 1147869191), 6377: (4.0, 1147868469), 6539: (3.5, 1147868461), 6711: (5.0, 1147868622), 6954: (3.5, 1147869150), 7209: (4.0, 1147877986), 7234: (4.5, 1147868869), 7318: (2.0, 1147879850), 7323: (3.5, 1147869119), 7327: (3.5, 1147868855), 7361: (5.0, 1147880055), 7365: (4.0, 1147869033), 7820: (2.5, 1147878050), 7937: (3.0, 1147878055), 7938: (2.5, 1147878063), 7939: (2.5, 1147869183), 7940: (4.5, 1147877967), 8014: (3.5, 1147869155), 8154: (5.0, 1147868865), 8327: (5.0, 1147879375), 8360: (4.0, 1147868682), 8405: (3.5, 1147878095), 8685: (1.0, 1147878023), 8729: (3.5, 1147878452), 8786: (4.0, 1147877853), 8873: (3.0, 1147869094), 8973: (4.0, 1147869211), 27193: (3.0, 1147879774), 27266: (4.5, 1147879365), 27721: (3.0, 1147869115), 31956: (3.5, 1147877610), 32591: (5.0, 1147879538)} \n",
      " 162541 {29: (5.0, 1240953540), 32: (5.0, 1240949283), 47: (4.5, 1240953606), 50: (5.0, 1240953428), 105: (2.5, 1240947359), 141: (2.5, 1240952466), 145: (3.0, 1240951566), 150: (3.5, 1240951093), 153: (2.5, 1240951808), 208: (1.0, 1240953008), 260: (5.0, 1240952836), 261: (3.5, 1240946774), 293: (4.0, 1240953789), 296: (3.5, 1240953510), 318: (4.0, 1240952695), 344: (0.5, 1240949530), 345: (4.5, 1240950041), 410: (1.5, 1240949573), 412: (3.5, 1240950184), 416: (1.5, 1240951583), 485: (2.5, 1240953126), 527: (4.5, 1240953464), 541: (5.0, 1240952537), 590: (3.0, 1240953047), 592: (2.0, 1240951788), 593: (4.0, 1240953576), 616: (3.5, 1240951140), 674: (4.0, 1240951697), 724: (2.5, 1240947514), 737: (0.5, 1240951690), 745: (4.0, 1240953469), 900: (4.0, 1240950880), 914: (4.0, 1240947390), 924: (3.0, 1240949338), 969: (4.0, 1240947363), 1029: (3.5, 1240947440), 1042: (3.5, 1240947457), 1047: (1.5, 1240947418), 1092: (1.0, 1240951752), 1127: (2.5, 1240949511), 1129: (3.5, 1240947461), 1136: (4.5, 1240953505), 1148: (4.0, 1240953496), 1172: (4.5, 1240947465), 1196: (5.0, 1240952840), 1197: (4.5, 1240953534), 1198: (4.5, 1240953444), 1200: (4.0, 1240950432), 1201: (3.0, 1240953800), 1208: (3.5, 1240951088), 1210: (3.5, 1240952843), 1214: (4.0, 1240950409), 1215: (3.5, 1240951155), 1216: (4.0, 1240952220), 1225: (3.0, 1240950706), 1230: (3.5, 1240951041), 1238: (3.5, 1240953130), 1249: (4.5, 1240947393), 1259: (4.5, 1240953609), 1266: (5.0, 1240953613), 1270: (4.0, 1240951522), 1274: (4.0, 1240950326), 1275: (4.5, 1240952554), 1293: (4.0, 1240947397), 1320: (2.5, 1240950444), 1321: (2.5, 1240950870), 1367: (3.0, 1240949272), 1377: (2.5, 1240951801), 1441: (4.0, 1240952102), 1556: (1.0, 1240953650), 1562: (2.0, 1240951781), 1608: (1.5, 1240950215), 1617: (4.5, 1240953562), 1639: (4.0, 1240952652), 1690: (2.0, 1240950428), 1704: (4.0, 1240952634), 1729: (3.5, 1240946758), 1732: (4.0, 1240952354), 1784: (4.5, 1240951286), 1917: (3.0, 1240951147), 2011: (2.5, 1240951539), 2012: (3.5, 1240951543), 2072: (1.5, 1240949203), 2080: (4.0, 1240947410), 2105: (4.5, 1240947373), 2124: (2.5, 1240949568), 2161: (5.0, 1240947377), 2174: (2.5, 1240952017), 2294: (2.5, 1240951065), 2324: (4.5, 1240953595), 2329: (4.5, 1240950831), 2352: (2.5, 1240952298), 2396: (4.0, 1240952712), 2407: (3.0, 1240946787), 2539: (1.0, 1240950911), 2571: (5.0, 1240953087), 2628: (3.0, 1240952849), 2683: (1.5, 1240951365), 2699: (1.0, 1240951121), 2748: (0.5, 1240950644), 2788: (4.5, 1240953598), 2791: (3.5, 1240950224), 2792: (3.0, 1240950233), 2797: (3.0, 1240952212), 2819: (3.5, 1240949371), 2858: (5.0, 1240950804), 2947: (1.5, 1240946764), 2959: (5.0, 1240953488), 2968: (4.0, 1240947487), 2997: (5.0, 1240952040), 3039: (2.0, 1240947491), 3052: (5.0, 1240952578), 3105: (3.0, 1240951414), 3107: (2.5, 1240951550), 3155: (1.0, 1240951032), 3173: (4.0, 1240951068), 3179: (2.5, 1240950985), 3255: (4.0, 1240947380), 3421: (3.5, 1240951007), 3478: (4.0, 1240951642), 3534: (2.0, 1240949356), 3701: (4.0, 1240950422), 3705: (1.5, 1240952457), 3740: (2.5, 1240952390), 3824: (2.0, 1240951385), 3841: (2.0, 1240950204), 3897: (4.0, 1240950657), 3996: (5.0, 1240953168), 4079: (3.0, 1240950781), 4080: (3.0, 1240951478), 4084: (1.0, 1240952170), 4085: (2.0, 1240952160), 4226: (4.0, 1240953451), 4370: (0.5, 1240949454), 4464: (4.0, 1240949520), 4467: (3.0, 1240949583), 4476: (2.5, 1240952265), 4478: (2.0, 1240952437), 4479: (4.0, 1240952447), 4529: (4.0, 1240951622), 4571: (4.0, 1240952411), 4639: (3.0, 1240950799), 4973: (4.5, 1240950790), 4980: (4.0, 1240952408), 4993: (5.0, 1240952610), 4995: (5.0, 1240951903), 5049: (1.5, 1240949402), 5378: (2.5, 1240952856), 5610: (2.0, 1240951668), 5618: (4.5, 1240953299), 5689: (4.0, 1240952425), 5927: (1.5, 1240952124), 5952: (5.0, 1240952617), 5971: (4.0, 1240953309), 6104: (5.0, 1240953565), 6218: (3.0, 1240952092), 6365: (4.0, 1240953096), 6440: (4.5, 1240951746), 6548: (3.0, 1240951570), 6791: (4.5, 1240951469), 6793: (0.5, 1240952009), 6934: (2.0, 1240953104), 7042: (3.5, 1240952153), 7090: (4.5, 1240953139), 7147: (4.5, 1240952343), 7153: (5.0, 1240952613), 7173: (1.5, 1240950668), 7193: (5.0, 1240950032), 7361: (4.5, 1240953484), 8610: (2.5, 1240950626), 8905: (3.0, 1240949310), 8961: (4.0, 1240953338), 8983: (4.5, 1240953211), 31658: (4.5, 1240953287), 33794: (4.0, 1240951792), 41566: (4.0, 1240952749), 45517: (4.5, 1240953353), 50872: (4.5, 1240953372), 55768: (2.5, 1240951998), 56176: (2.0, 1240950697), 58559: (4.0, 1240953434), 63876: (5.0, 1240952515)}\n"
     ]
    }
   ],
   "source": [
    "users_count = 189169\n",
    "smallest = users_count + 1\n",
    "biggest = 0\n",
    "ratings = {}\n",
    "    \n",
    "with open('ratings.csv') as csv_file:\n",
    "    csv_reader = csv.reader(csv_file, delimiter=',')\n",
    "    line_count = 0\n",
    "    for row in csv_reader:\n",
    "        if line_count % 1000000 == 0 and DEBUG:\n",
    "            print(line_count)\n",
    "        if line_count == 0:\n",
    "            line_count += 1\n",
    "        else:\n",
    "            userId = int(row[0])\n",
    "            smallest = min(smallest, userId)\n",
    "            biggest = max(biggest, userId)\n",
    "            movieId = int(row[1])\n",
    "            rating = float(row[2])\n",
    "            timestamp = int(row[3])\n",
    "            if userId not in ratings:\n",
    "                ratings[userId] = {}\n",
    "            ratings[userId][movieId] = (rating, timestamp)\n",
    "            line_count += 1\n",
    "    print(f'Processed {line_count} lines.')\n",
    "\n",
    "if DEBUG:\n",
    "    print(smallest, ratings[smallest], \"\\n\", biggest, ratings[biggest]) "
   ]
  },
  {
   "cell_type": "code",
   "execution_count": 88,
   "metadata": {},
   "outputs": [
    {
     "name": "stdout",
     "output_type": "stream",
     "text": [
      "Processed 1093361 lines.\n",
      "{260: ('sci-fi', 1439472256)} \n",
      " {189169: ('robbery', 1527518193)}\n"
     ]
    }
   ],
   "source": [
    "tags = {}\n",
    "smallest = users_count + 1\n",
    "biggest = 0\n",
    "    \n",
    "with open('tags.csv') as csv_file:\n",
    "    csv_reader = csv.reader(csv_file, delimiter=',')\n",
    "    line_count = 0\n",
    "    for row in csv_reader:\n",
    "        if line_count == 0:\n",
    "            line_count += 1\n",
    "        else:\n",
    "            userId = int(row[0])\n",
    "            smallest = min(smallest, userId)\n",
    "            biggest = max(biggest, userId)\n",
    "            movieId = int(row[1])\n",
    "            tag = row[2]\n",
    "            timestamp = int(row[3])\n",
    "            if userId not in tags:\n",
    "                tags[userId] = {}\n",
    "            tags[userId][movieId] = (tag, timestamp)\n",
    "            line_count += 1\n",
    "    print(f'Processed {line_count} lines.')\n",
    "\n",
    "if DEBUG:\n",
    "    print(tags[smallest], \"\\n\", tags[biggest]) "
   ]
  },
  {
   "cell_type": "code",
   "execution_count": 92,
   "metadata": {},
   "outputs": [
    {
     "data": {
      "text/plain": [
       "14592"
      ]
     },
     "execution_count": 92,
     "metadata": {},
     "output_type": "execute_result"
    }
   ],
   "source": [
    "len(tags)"
   ]
  },
  {
   "cell_type": "code",
   "execution_count": 131,
   "metadata": {},
   "outputs": [],
   "source": [
    "import statistics as stat\n",
    "userStats = {}\n",
    "how_many_zeros = 0\n",
    "\n",
    "for i in range(users_count + 1):\n",
    "#   Comment: if i not in ratings => then #ratings = #tags = 0 for user i\n",
    "    if i not in ratings:\n",
    "        continue\n",
    "    ratingsSize = len(ratings[i])\n",
    "    tagsSize = (len(tags[i]) if i in tags else 0)\n",
    "    avgGrade = stat.mean([x for (x, _) in ratings[i].values()])\n",
    "    userStats[i] = (ratingsSize, tagsSize, avgGrade)\n",
    "    \n",
    "# print(len(userStats))\n",
    "# print(userStats)\n",
    "# print(how_many_zeros)"
   ]
  },
  {
   "cell_type": "code",
   "execution_count": null,
   "metadata": {},
   "outputs": [],
   "source": []
  },
  {
   "cell_type": "code",
   "execution_count": 135,
   "metadata": {},
   "outputs": [],
   "source": [
    "f = open(\"userStats.txt\", \"w+\")\n",
    "for (k, (x, y, z)) in userStats.items():\n",
    "    f.write(str(k) + \",\" + str(x) + \",\" +  str(y) +  \",\" +  str(z) + \"\\n\")\n",
    "#     print(k, \",\", x, \",\", y, \",\", z, \"\\n\") \n",
    "f.close()"
   ]
  },
  {
   "cell_type": "markdown",
   "metadata": {},
   "source": [
    "*****************************************************************\n",
    "#  The Social Web \n",
    "- Instructors Davide Ceolin, Dayana Spagnuelo\n",
    "- Exercises for Hands-on session 1\n",
    "- 6 February 2020 11:00 - 12:45                 \n",
    "- NU-5B-21, NU-6A-04, NU-6B-20, NU-6C-39, NU-6C-40                             \n",
    "*****************************************************************"
   ]
  },
  {
   "cell_type": "markdown",
   "metadata": {},
   "source": [
    "Prerequisites:\n",
    "- Python 3.7\n",
    "- Python packages: twitter, prettytable, matplotlib\n",
    "\n",
    "First you need to know how to retrieve some social web data. Exercises 1 and 2 will show you how to retrieve trends and search results from Twitter. \n",
    "\n",
    "But let's check first if we're running a sufficiently new version of Python:"
   ]
  },
  {
   "cell_type": "code",
   "execution_count": 1,
   "metadata": {},
   "outputs": [
    {
     "name": "stdout",
     "output_type": "stream",
     "text": [
      "This jupyter notebook is running on Python 3.7.4\n"
     ]
    }
   ],
   "source": [
    "import platform\n",
    "import sys\n",
    "print(\"This jupyter notebook is running on Python \" + platform.python_version())\n",
    "# It's good practice to assert packages requirements at the beginning of a script:\n",
    "assert sys.version_info >= (3, 6) # Tested with Python==3.7.5"
   ]
  },
  {
   "cell_type": "markdown",
   "metadata": {},
   "source": [
    "Let's install now the required packages for this hands on session:"
   ]
  },
  {
   "cell_type": "code",
   "execution_count": 2,
   "metadata": {},
   "outputs": [
    {
     "name": "stdout",
     "output_type": "stream",
     "text": [
      "Collecting twitter\n",
      "\u001b[?25l  Downloading https://files.pythonhosted.org/packages/85/e2/f602e3f584503f03e0389491b251464f8ecfe2596ac86e6b9068fe7419d3/twitter-1.18.0-py2.py3-none-any.whl (54kB)\n",
      "\u001b[K    100% |████████████████████████████████| 61kB 5.8MB/s ta 0:00:01\n",
      "\u001b[?25hCollecting PrettyTable\n",
      "  Downloading https://files.pythonhosted.org/packages/ef/30/4b0746848746ed5941f052479e7c23d2b56d174b82f4fd34a25e389831f5/prettytable-0.7.2.tar.bz2\n",
      "Requirement already satisfied: matplotlib in /home/nhemisirmkow/Studia/Erasmus/Zajęcia/SocialVenv/lib/python3.7/site-packages (3.1.3)\n",
      "Requirement already satisfied: python-dateutil>=2.1 in /home/nhemisirmkow/Studia/Erasmus/Zajęcia/SocialVenv/lib/python3.7/site-packages (from matplotlib) (2.8.1)\n",
      "Requirement already satisfied: kiwisolver>=1.0.1 in /home/nhemisirmkow/Studia/Erasmus/Zajęcia/SocialVenv/lib/python3.7/site-packages (from matplotlib) (1.1.0)\n",
      "Requirement already satisfied: cycler>=0.10 in /home/nhemisirmkow/Studia/Erasmus/Zajęcia/SocialVenv/lib/python3.7/site-packages (from matplotlib) (0.10.0)\n",
      "Requirement already satisfied: numpy>=1.11 in /home/nhemisirmkow/Studia/Erasmus/Zajęcia/SocialVenv/lib/python3.7/site-packages (from matplotlib) (1.18.1)\n",
      "Requirement already satisfied: pyparsing!=2.0.4,!=2.1.2,!=2.1.6,>=2.0.1 in /home/nhemisirmkow/Studia/Erasmus/Zajęcia/SocialVenv/lib/python3.7/site-packages (from matplotlib) (2.4.6)\n",
      "Requirement already satisfied: six>=1.5 in /home/nhemisirmkow/Studia/Erasmus/Zajęcia/SocialVenv/lib/python3.7/site-packages (from python-dateutil>=2.1->matplotlib) (1.14.0)\n",
      "Requirement already satisfied: setuptools in /home/nhemisirmkow/Studia/Erasmus/Zajęcia/SocialVenv/lib/python3.7/site-packages (from kiwisolver>=1.0.1->matplotlib) (40.8.0)\n",
      "Installing collected packages: twitter, PrettyTable\n",
      "  Running setup.py install for PrettyTable ... \u001b[?25ldone\n",
      "\u001b[?25hSuccessfully installed PrettyTable-0.7.2 twitter-1.18.0\n",
      "\u001b[33mYou are using pip version 19.0.3, however version 20.0.2 is available.\n",
      "You should consider upgrading via the 'pip install --upgrade pip' command.\u001b[0m\n"
     ]
    }
   ],
   "source": [
    "# If you're using a virtualenv, make sure its activated before running \n",
    "# this cell!\n",
    "!pip install twitter PrettyTable matplotlib"
   ]
  },
  {
   "cell_type": "markdown",
   "metadata": {},
   "source": [
    "## Part 1: Authorizing an application to access Twitter account data (from Example 1-1/9-1 in Mining the Social Web):\n",
    "\n",
    "1. Make sure to add your mobile phone number to your private twitter profile.\n",
    "2. Go to https://apps.twitter.com/ and click on \"create an app\". Twitter will prompt you to create a *developer account*.\n",
    "3. You'll receive an *account confirmation* email with a link. Follow it and create an app. \n",
    "4. Once the app is created, you'll see a \"Keys and Token\" item on the top left-hand side corner of the webpage. This values will be needed to fill in the next cell."
   ]
  },
  {
   "cell_type": "code",
   "execution_count": 3,
   "metadata": {},
   "outputs": [
    {
     "name": "stdout",
     "output_type": "stream",
     "text": [
      "<twitter.api.Twitter object at 0x7f45e8784fd0>\n"
     ]
    }
   ],
   "source": [
    "import twitter # Tell Python to use the twitter package\n",
    "CONSUMER_KEY = 'W85U1ou4uhCwajj6FQATY0gLv'\n",
    "CONSUMER_SECRET = 'xcNoU3jY8XKFVzg6pcQCySsOAvP9HEADZfeW670XvsanV5n6fq'\n",
    "# to get the oauth credential you need to click on the 'Generate access token' button:\n",
    "OAUTH_TOKEN = '937841513580646401-TaeSO8Lt7L5R9zUArxg3vQoOQPTU23H' \n",
    "OAUTH_TOKEN_SECRET = '7siMLf4qxtpcKVzpEzzjpyrjdMQHPXfDUwySP1DHYkxtJ'\n",
    "auth = twitter.oauth.OAuth(OAUTH_TOKEN, OAUTH_TOKEN_SECRET,CONSUMER_KEY, CONSUMER_SECRET)\n",
    "twitter_api = twitter.Twitter(auth=auth)\n",
    "print(twitter_api) \n",
    "# Nothing to see by displaying twitter_api except that it's now a defined variable\n"
   ]
  },
  {
   "cell_type": "markdown",
   "metadata": {},
   "source": [
    "### 1.1: Retrieving twitter search trends (from Example 1-2/9-2 in Mining the Social Web)"
   ]
  },
  {
   "cell_type": "code",
   "execution_count": 8,
   "metadata": {},
   "outputs": [
    {
     "name": "stdout",
     "output_type": "stream",
     "text": [
      "[{'trends': [{'name': '#DIVEwithiKON', 'url': 'http://twitter.com/search?q=%23DIVEwithiKON', 'promoted_content': None, 'query': '%23DIVEwithiKON', 'tweet_volume': 126052}, {'name': '非公開リスト', 'url': 'http://twitter.com/search?q=%E9%9D%9E%E5%85%AC%E9%96%8B%E3%83%AA%E3%82%B9%E3%83%88', 'promoted_content': None, 'query': '%E9%9D%9E%E5%85%AC%E9%96%8B%E3%83%AA%E3%82%B9%E3%83%88', 'tweet_volume': 39153}, {'name': '#Kıyamet', 'url': 'http://twitter.com/search?q=%23K%C4%B1yamet', 'promoted_content': None, 'query': '%23K%C4%B1yamet', 'tweet_volume': 12172}, {'name': '#ミラティブでガチャ代ゲット', 'url': 'http://twitter.com/search?q=%23%E3%83%9F%E3%83%A9%E3%83%86%E3%82%A3%E3%83%96%E3%81%A7%E3%82%AC%E3%83%81%E3%83%A3%E4%BB%A3%E3%82%B2%E3%83%83%E3%83%88', 'promoted_content': None, 'query': '%23%E3%83%9F%E3%83%A9%E3%83%86%E3%82%A3%E3%83%96%E3%81%A7%E3%82%AC%E3%83%81%E3%83%A3%E4%BB%A3%E3%82%B2%E3%83%83%E3%83%88', 'tweet_volume': 11079}, {'name': '#VS嵐', 'url': 'http://twitter.com/search?q=%23VS%E5%B5%90', 'promoted_content': None, 'query': '%23VS%E5%B5%90', 'tweet_volume': 12722}, {'name': '#SB19atHIWAGAUPFAIR', 'url': 'http://twitter.com/search?q=%23SB19atHIWAGAUPFAIR', 'promoted_content': None, 'query': '%23SB19atHIWAGAUPFAIR', 'tweet_volume': 45701}, {'name': 'التعداد السكاني', 'url': 'http://twitter.com/search?q=%22%D8%A7%D9%84%D8%AA%D8%B9%D8%AF%D8%A7%D8%AF+%D8%A7%D9%84%D8%B3%D9%83%D8%A7%D9%86%D9%8A%22', 'promoted_content': None, 'query': '%22%D8%A7%D9%84%D8%AA%D8%B9%D8%AF%D8%A7%D8%AF+%D8%A7%D9%84%D8%B3%D9%83%D8%A7%D9%86%D9%8A%22', 'tweet_volume': None}, {'name': 'Tvitaarrtir Açıldı', 'url': 'http://twitter.com/search?q=%22Tvitaarrtir+A%C3%A7%C4%B1ld%C4%B1%22', 'promoted_content': None, 'query': '%22Tvitaarrtir+A%C3%A7%C4%B1ld%C4%B1%22', 'tweet_volume': None}, {'name': 'ノイタミナ', 'url': 'http://twitter.com/search?q=%E3%83%8E%E3%82%A4%E3%82%BF%E3%83%9F%E3%83%8A', 'promoted_content': None, 'query': '%E3%83%8E%E3%82%A4%E3%82%BF%E3%83%9F%E3%83%8A', 'tweet_volume': 30427}, {'name': 'モノノ怪', 'url': 'http://twitter.com/search?q=%E3%83%A2%E3%83%8E%E3%83%8E%E6%80%AA', 'promoted_content': None, 'query': '%E3%83%A2%E3%83%8E%E3%83%8E%E6%80%AA', 'tweet_volume': None}, {'name': '真礼ちゃん', 'url': 'http://twitter.com/search?q=%E7%9C%9F%E7%A4%BC%E3%81%A1%E3%82%83%E3%82%93', 'promoted_content': None, 'query': '%E7%9C%9F%E7%A4%BC%E3%81%A1%E3%82%83%E3%82%93', 'tweet_volume': None}, {'name': 'ヨンフェス', 'url': 'http://twitter.com/search?q=%E3%83%A8%E3%83%B3%E3%83%95%E3%82%A7%E3%82%B9', 'promoted_content': None, 'query': '%E3%83%A8%E3%83%B3%E3%83%95%E3%82%A7%E3%82%B9', 'tweet_volume': None}, {'name': 'PepsiCoSalesCon WithMayWard', 'url': 'http://twitter.com/search?q=%22PepsiCoSalesCon+WithMayWard%22', 'promoted_content': None, 'query': '%22PepsiCoSalesCon+WithMayWard%22', 'tweet_volume': 67894}, {'name': '残響のテロル', 'url': 'http://twitter.com/search?q=%E6%AE%8B%E9%9F%BF%E3%81%AE%E3%83%86%E3%83%AD%E3%83%AB', 'promoted_content': None, 'query': '%E6%AE%8B%E9%9F%BF%E3%81%AE%E3%83%86%E3%83%AD%E3%83%AB', 'tweet_volume': None}, {'name': '在宅起訴', 'url': 'http://twitter.com/search?q=%E5%9C%A8%E5%AE%85%E8%B5%B7%E8%A8%B4', 'promoted_content': None, 'query': '%E5%9C%A8%E5%AE%85%E8%B5%B7%E8%A8%B4', 'tweet_volume': None}, {'name': '内田真礼', 'url': 'http://twitter.com/search?q=%E5%86%85%E7%94%B0%E7%9C%9F%E7%A4%BC', 'promoted_content': None, 'query': '%E5%86%85%E7%94%B0%E7%9C%9F%E7%A4%BC', 'tweet_volume': None}, {'name': 'まれいたそ', 'url': 'http://twitter.com/search?q=%E3%81%BE%E3%82%8C%E3%81%84%E3%81%9F%E3%81%9D', 'promoted_content': None, 'query': '%E3%81%BE%E3%82%8C%E3%81%84%E3%81%9F%E3%81%9D', 'tweet_volume': None}, {'name': '#TimeToTalk', 'url': 'http://twitter.com/search?q=%23TimeToTalk', 'promoted_content': None, 'query': '%23TimeToTalk', 'tweet_volume': 13404}, {'name': '#FlowersOfManchester', 'url': 'http://twitter.com/search?q=%23FlowersOfManchester', 'promoted_content': None, 'query': '%23FlowersOfManchester', 'tweet_volume': 33639}, {'name': '#กพ63', 'url': 'http://twitter.com/search?q=%23%E0%B8%81%E0%B8%9E63', 'promoted_content': None, 'query': '%23%E0%B8%81%E0%B8%9E63', 'tweet_volume': 53836}, {'name': '#PMinLokSabha', 'url': 'http://twitter.com/search?q=%23PMinLokSabha', 'promoted_content': None, 'query': '%23PMinLokSabha', 'tweet_volume': 39064}, {'name': '#FelizJueves', 'url': 'http://twitter.com/search?q=%23FelizJueves', 'promoted_content': None, 'query': '%23FelizJueves', 'tweet_volume': None}, {'name': '#KirkDouglasRIP', 'url': 'http://twitter.com/search?q=%23KirkDouglasRIP', 'promoted_content': None, 'query': '%23KirkDouglasRIP', 'tweet_volume': None}, {'name': '#あなたは誰推しと思われてるのか調査', 'url': 'http://twitter.com/search?q=%23%E3%81%82%E3%81%AA%E3%81%9F%E3%81%AF%E8%AA%B0%E6%8E%A8%E3%81%97%E3%81%A8%E6%80%9D%E3%82%8F%E3%82%8C%E3%81%A6%E3%82%8B%E3%81%AE%E3%81%8B%E8%AA%BF%E6%9F%BB', 'promoted_content': None, 'query': '%23%E3%81%82%E3%81%AA%E3%81%9F%E3%81%AF%E8%AA%B0%E6%8E%A8%E3%81%97%E3%81%A8%E6%80%9D%E3%82%8F%E3%82%8C%E3%81%A6%E3%82%8B%E3%81%AE%E3%81%8B%E8%AA%BF%E6%9F%BB', 'tweet_volume': None}, {'name': '#migros', 'url': 'http://twitter.com/search?q=%23migros', 'promoted_content': None, 'query': '%23migros', 'tweet_volume': None}, {'name': '#본명_자음과_닉네임_모음을_합쳐보자', 'url': 'http://twitter.com/search?q=%23%EB%B3%B8%EB%AA%85_%EC%9E%90%EC%9D%8C%EA%B3%BC_%EB%8B%89%EB%84%A4%EC%9E%84_%EB%AA%A8%EC%9D%8C%EC%9D%84_%ED%95%A9%EC%B3%90%EB%B3%B4%EC%9E%90', 'promoted_content': None, 'query': '%23%EB%B3%B8%EB%AA%85_%EC%9E%90%EC%9D%8C%EA%B3%BC_%EB%8B%89%EB%84%A4%EC%9E%84_%EB%AA%A8%EC%9D%8C%EC%9D%84_%ED%95%A9%EC%B3%90%EB%B3%B4%EC%9E%90', 'tweet_volume': None}, {'name': '#ماذا_يغضب_البنات', 'url': 'http://twitter.com/search?q=%23%D9%85%D8%A7%D8%B0%D8%A7_%D9%8A%D8%BA%D8%B6%D8%A8_%D8%A7%D9%84%D8%A8%D9%86%D8%A7%D8%AA', 'promoted_content': None, 'query': '%23%D9%85%D8%A7%D8%B0%D8%A7_%D9%8A%D8%BA%D8%B6%D8%A8_%D8%A7%D9%84%D8%A8%D9%86%D8%A7%D8%AA', 'tweet_volume': 18045}, {'name': '#NEWSチケットの輪', 'url': 'http://twitter.com/search?q=%23NEWS%E3%83%81%E3%82%B1%E3%83%83%E3%83%88%E3%81%AE%E8%BC%AA', 'promoted_content': None, 'query': '%23NEWS%E3%83%81%E3%82%B1%E3%83%83%E3%83%88%E3%81%AE%E8%BC%AA', 'tweet_volume': 17899}, {'name': '#BesiktasWasVictimized', 'url': 'http://twitter.com/search?q=%23BesiktasWasVictimized', 'promoted_content': None, 'query': '%23BesiktasWasVictimized', 'tweet_volume': None}, {'name': '#PegasusAirlines', 'url': 'http://twitter.com/search?q=%23PegasusAirlines', 'promoted_content': None, 'query': '%23PegasusAirlines', 'tweet_volume': 10292}, {'name': '#EndFGM', 'url': 'http://twitter.com/search?q=%23EndFGM', 'promoted_content': None, 'query': '%23EndFGM', 'tweet_volume': 14660}, {'name': '#突破ファイル', 'url': 'http://twitter.com/search?q=%23%E7%AA%81%E7%A0%B4%E3%83%95%E3%82%A1%E3%82%A4%E3%83%AB', 'promoted_content': None, 'query': '%23%E7%AA%81%E7%A0%B4%E3%83%95%E3%82%A1%E3%82%A4%E3%83%AB', 'tweet_volume': None}, {'name': '#frecciarossa', 'url': 'http://twitter.com/search?q=%23frecciarossa', 'promoted_content': None, 'query': '%23frecciarossa', 'tweet_volume': None}, {'name': '#Baaghi3Trailer', 'url': 'http://twitter.com/search?q=%23Baaghi3Trailer', 'promoted_content': None, 'query': '%23Baaghi3Trailer', 'tweet_volume': 18220}, {'name': '#दिल्ली_में_कमल_खिल_रहा_है', 'url': 'http://twitter.com/search?q=%23%E0%A4%A6%E0%A4%BF%E0%A4%B2%E0%A5%8D%E0%A4%B2%E0%A5%80_%E0%A4%AE%E0%A5%87%E0%A4%82_%E0%A4%95%E0%A4%AE%E0%A4%B2_%E0%A4%96%E0%A4%BF%E0%A4%B2_%E0%A4%B0%E0%A4%B9%E0%A4%BE_%E0%A4%B9%E0%A5%88', 'promoted_content': None, 'query': '%23%E0%A4%A6%E0%A4%BF%E0%A4%B2%E0%A5%8D%E0%A4%B2%E0%A5%80_%E0%A4%AE%E0%A5%87%E0%A4%82_%E0%A4%95%E0%A4%AE%E0%A4%B2_%E0%A4%96%E0%A4%BF%E0%A4%B2_%E0%A4%B0%E0%A4%B9%E0%A4%BE_%E0%A4%B9%E0%A5%88', 'tweet_volume': 42735}, {'name': '#الخميس_الونيس', 'url': 'http://twitter.com/search?q=%23%D8%A7%D9%84%D8%AE%D9%85%D9%8A%D8%B3_%D8%A7%D9%84%D9%88%D9%86%D9%8A%D8%B3', 'promoted_content': None, 'query': '%23%D8%A7%D9%84%D8%AE%D9%85%D9%8A%D8%B3_%D8%A7%D9%84%D9%88%D9%86%D9%8A%D8%B3', 'tweet_volume': 15151}, {'name': '#festabbb', 'url': 'http://twitter.com/search?q=%23festabbb', 'promoted_content': None, 'query': '%23festabbb', 'tweet_volume': 28731}, {'name': '#QuandJeSuisSansTelephoneJe', 'url': 'http://twitter.com/search?q=%23QuandJeSuisSansTelephoneJe', 'promoted_content': None, 'query': '%23QuandJeSuisSansTelephoneJe', 'tweet_volume': None}, {'name': '#チョコレート診断', 'url': 'http://twitter.com/search?q=%23%E3%83%81%E3%83%A7%E3%82%B3%E3%83%AC%E3%83%BC%E3%83%88%E8%A8%BA%E6%96%AD', 'promoted_content': None, 'query': '%23%E3%83%81%E3%83%A7%E3%82%B3%E3%83%AC%E3%83%BC%E3%83%88%E8%A8%BA%E6%96%AD', 'tweet_volume': None}, {'name': '#IWasInFirstYear', 'url': 'http://twitter.com/search?q=%23IWasInFirstYear', 'promoted_content': None, 'query': '%23IWasInFirstYear', 'tweet_volume': None}, {'name': '#あなたの7つの特徴', 'url': 'http://twitter.com/search?q=%23%E3%81%82%E3%81%AA%E3%81%9F%E3%81%AE7%E3%81%A4%E3%81%AE%E7%89%B9%E5%BE%B4', 'promoted_content': None, 'query': '%23%E3%81%82%E3%81%AA%E3%81%9F%E3%81%AE7%E3%81%A4%E3%81%AE%E7%89%B9%E5%BE%B4', 'tweet_volume': None}, {'name': '#perşembe', 'url': 'http://twitter.com/search?q=%23per%C5%9Fembe', 'promoted_content': None, 'query': '%23per%C5%9Fembe', 'tweet_volume': 16339}, {'name': '#TolakEksWNIproISIS', 'url': 'http://twitter.com/search?q=%23TolakEksWNIproISIS', 'promoted_content': None, 'query': '%23TolakEksWNIproISIS', 'tweet_volume': 26121}, {'name': '#OTDirecto6F', 'url': 'http://twitter.com/search?q=%23OTDirecto6F', 'promoted_content': None, 'query': '%23OTDirecto6F', 'tweet_volume': 10961}, {'name': '#اول_مدينه_اعلاميه_في_السعوديه', 'url': 'http://twitter.com/search?q=%23%D8%A7%D9%88%D9%84_%D9%85%D8%AF%D9%8A%D9%86%D9%87_%D8%A7%D8%B9%D9%84%D8%A7%D9%85%D9%8A%D9%87_%D9%81%D9%8A_%D8%A7%D9%84%D8%B3%D8%B9%D9%88%D8%AF%D9%8A%D9%87', 'promoted_content': None, 'query': '%23%D8%A7%D9%88%D9%84_%D9%85%D8%AF%D9%8A%D9%86%D9%87_%D8%A7%D8%B9%D9%84%D8%A7%D9%85%D9%8A%D9%87_%D9%81%D9%8A_%D8%A7%D9%84%D8%B3%D8%B9%D9%88%D8%AF%D9%8A%D9%87', 'tweet_volume': None}, {'name': '#Tubelight', 'url': 'http://twitter.com/search?q=%23Tubelight', 'promoted_content': None, 'query': '%23Tubelight', 'tweet_volume': None}, {'name': '#위버스반대_소속사_정신차려', 'url': 'http://twitter.com/search?q=%23%EC%9C%84%EB%B2%84%EC%8A%A4%EB%B0%98%EB%8C%80_%EC%86%8C%EC%86%8D%EC%82%AC_%EC%A0%95%EC%8B%A0%EC%B0%A8%EB%A0%A4', 'promoted_content': None, 'query': '%23%EC%9C%84%EB%B2%84%EC%8A%A4%EB%B0%98%EB%8C%80_%EC%86%8C%EC%86%8D%EC%82%AC_%EC%A0%95%EC%8B%A0%EC%B0%A8%EB%A0%A4', 'tweet_volume': 135990}, {'name': '#VoteForJhadu', 'url': 'http://twitter.com/search?q=%23VoteForJhadu', 'promoted_content': None, 'query': '%23VoteForJhadu', 'tweet_volume': 40158}, {'name': '#twitterbars', 'url': 'http://twitter.com/search?q=%23twitterbars', 'promoted_content': None, 'query': '%23twitterbars', 'tweet_volume': None}, {'name': '#SanchezDimision', 'url': 'http://twitter.com/search?q=%23SanchezDimision', 'promoted_content': None, 'query': '%23SanchezDimision', 'tweet_volume': None}], 'as_of': '2020-02-06T10:43:52Z', 'created_at': '2020-02-06T10:41:54Z', 'locations': [{'name': 'Worldwide', 'woeid': 1}]}]\n"
     ]
    }
   ],
   "source": [
    "WORLD_WOE_ID = 1 # The \"Yahoo! Where On Earth ID\" for the entire world\n",
    "world_trends = twitter_api.trends.place(_id=WORLD_WOE_ID) # get back a callable\n",
    "print(world_trends)"
   ]
  },
  {
   "cell_type": "markdown",
   "metadata": {},
   "source": [
    "### Task 1\n",
    "Find out how WORLD_WOE_IDs are defined by Yahoo and try to use others in a query. What kind of differences do you find between the worldwide trends and the local trends? \n"
   ]
  },
  {
   "cell_type": "code",
   "execution_count": 10,
   "metadata": {},
   "outputs": [
    {
     "name": "stdout",
     "output_type": "stream",
     "text": [
      "[{'trends': [{'name': '#DIVEwithiKON', 'url': 'http://twitter.com/search?q=%23DIVEwithiKON', 'promoted_content': None, 'query': '%23DIVEwithiKON', 'tweet_volume': 122557}, {'name': 'Kirk Douglas', 'url': 'http://twitter.com/search?q=%22Kirk+Douglas%22', 'promoted_content': None, 'query': '%22Kirk+Douglas%22', 'tweet_volume': 249381}, {'name': 'Hołownia', 'url': 'http://twitter.com/search?q=Ho%C5%82ownia', 'promoted_content': None, 'query': 'Ho%C5%82ownia', 'tweet_volume': 11348}, {'name': 'kołobrzegu', 'url': 'http://twitter.com/search?q=ko%C5%82obrzegu', 'promoted_content': None, 'query': 'ko%C5%82obrzegu', 'tweet_volume': None}, {'name': '#i_DECIDE', 'url': 'http://twitter.com/search?q=%23i_DECIDE', 'promoted_content': None, 'query': '%23i_DECIDE', 'tweet_volume': 232767}, {'name': 'Spot', 'url': 'http://twitter.com/search?q=Spot', 'promoted_content': None, 'query': 'Spot', 'tweet_volume': 194355}, {'name': 'Zagłębie', 'url': 'http://twitter.com/search?q=Zag%C5%82%C4%99bie', 'promoted_content': None, 'query': 'Zag%C5%82%C4%99bie', 'tweet_volume': None}, {'name': 'Krajowa Rada Swoich', 'url': 'http://twitter.com/search?q=%22Krajowa+Rada+Swoich%22', 'promoted_content': None, 'query': '%22Krajowa+Rada+Swoich%22', 'tweet_volume': None}, {'name': '#Minęła8', 'url': 'http://twitter.com/search?q=%23Min%C4%99%C5%82a8', 'promoted_content': None, 'query': '%23Min%C4%99%C5%82a8', 'tweet_volume': None}, {'name': 'Pekharta', 'url': 'http://twitter.com/search?q=Pekharta', 'promoted_content': None, 'query': 'Pekharta', 'tweet_volume': None}, {'name': 'gazeta wyborcza', 'url': 'http://twitter.com/search?q=%22gazeta+wyborcza%22', 'promoted_content': None, 'query': '%22gazeta+wyborcza%22', 'tweet_volume': None}, {'name': '#NoShame', 'url': 'http://twitter.com/search?q=%23NoShame', 'promoted_content': None, 'query': '%23NoShame', 'tweet_volume': 28877}, {'name': 'juszczyszyn', 'url': 'http://twitter.com/search?q=juszczyszyn', 'promoted_content': None, 'query': 'juszczyszyn', 'tweet_volume': None}, {'name': '#5sosfamhaveheartattack', 'url': 'http://twitter.com/search?q=%235sosfamhaveheartattack', 'promoted_content': None, 'query': '%235sosfamhaveheartattack', 'tweet_volume': None}, {'name': 'Lubartowie', 'url': 'http://twitter.com/search?q=Lubartowie', 'promoted_content': None, 'query': 'Lubartowie', 'tweet_volume': None}, {'name': 'Strzembosz', 'url': 'http://twitter.com/search?q=Strzembosz', 'promoted_content': None, 'query': 'Strzembosz', 'tweet_volume': None}, {'name': 'Angielski', 'url': 'http://twitter.com/search?q=Angielski', 'promoted_content': None, 'query': 'Angielski', 'tweet_volume': None}, {'name': 'Necid', 'url': 'http://twitter.com/search?q=Necid', 'promoted_content': None, 'query': 'Necid', 'tweet_volume': None}, {'name': 'pelosi', 'url': 'http://twitter.com/search?q=pelosi', 'promoted_content': None, 'query': 'pelosi', 'tweet_volume': 1861776}, {'name': 'Cichocki', 'url': 'http://twitter.com/search?q=Cichocki', 'promoted_content': None, 'query': 'Cichocki', 'tweet_volume': None}, {'name': 'Czecha', 'url': 'http://twitter.com/search?q=Czecha', 'promoted_content': None, 'query': 'Czecha', 'tweet_volume': None}, {'name': 'Palikota', 'url': 'http://twitter.com/search?q=Palikota', 'promoted_content': None, 'query': 'Palikota', 'tweet_volume': None}, {'name': 'brawo panie prezydencie', 'url': 'http://twitter.com/search?q=%22brawo+panie+prezydencie%22', 'promoted_content': None, 'query': '%22brawo+panie+prezydencie%22', 'tweet_volume': None}, {'name': 'song quiz', 'url': 'http://twitter.com/search?q=%22song+quiz%22', 'promoted_content': None, 'query': '%22song+quiz%22', 'tweet_volume': None}, {'name': 'Izba Dyscyplinarna', 'url': 'http://twitter.com/search?q=%22Izba+Dyscyplinarna%22', 'promoted_content': None, 'query': '%22Izba+Dyscyplinarna%22', 'tweet_volume': None}, {'name': 'Spurek', 'url': 'http://twitter.com/search?q=Spurek', 'promoted_content': None, 'query': 'Spurek', 'tweet_volume': None}, {'name': 'Turyngii', 'url': 'http://twitter.com/search?q=Turyngii', 'promoted_content': None, 'query': 'Turyngii', 'tweet_volume': None}, {'name': 'okrągłego stołu', 'url': 'http://twitter.com/search?q=%22okr%C4%85g%C5%82ego+sto%C5%82u%22', 'promoted_content': None, 'query': '%22okr%C4%85g%C5%82ego+sto%C5%82u%22', 'tweet_volume': None}, {'name': 'Olsztynie', 'url': 'http://twitter.com/search?q=Olsztynie', 'promoted_content': None, 'query': 'Olsztynie', 'tweet_volume': None}, {'name': 'Sanogo', 'url': 'http://twitter.com/search?q=Sanogo', 'promoted_content': None, 'query': 'Sanogo', 'tweet_volume': None}, {'name': 'tsue', 'url': 'http://twitter.com/search?q=tsue', 'promoted_content': None, 'query': 'tsue', 'tweet_volume': None}, {'name': 'Mk 6', 'url': 'http://twitter.com/search?q=%22Mk+6%22', 'promoted_content': None, 'query': '%22Mk+6%22', 'tweet_volume': None}, {'name': 'listy', 'url': 'http://twitter.com/search?q=listy', 'promoted_content': None, 'query': 'listy', 'tweet_volume': None}, {'name': 'Sędzia', 'url': 'http://twitter.com/search?q=S%C4%99dzia', 'promoted_content': None, 'query': 'S%C4%99dzia', 'tweet_volume': 10222}, {'name': '\"Sieci\"', 'url': 'http://twitter.com/search?q=%22Sieci%22', 'promoted_content': None, 'query': '%22Sieci%22', 'tweet_volume': None}, {'name': 'iowa', 'url': 'http://twitter.com/search?q=iowa', 'promoted_content': None, 'query': 'iowa', 'tweet_volume': 789252}, {'name': 'Las Palmas', 'url': 'http://twitter.com/search?q=%22Las+Palmas%22', 'promoted_content': None, 'query': '%22Las+Palmas%22', 'tweet_volume': None}, {'name': 'Kucharski', 'url': 'http://twitter.com/search?q=Kucharski', 'promoted_content': None, 'query': 'Kucharski', 'tweet_volume': None}, {'name': 'Wprost', 'url': 'http://twitter.com/search?q=Wprost', 'promoted_content': None, 'query': 'Wprost', 'tweet_volume': None}, {'name': '#WyboryPrezydenckie2020', 'url': 'http://twitter.com/search?q=%23WyboryPrezydenckie2020', 'promoted_content': None, 'query': '%23WyboryPrezydenckie2020', 'tweet_volume': None}, {'name': '#AndrzejDuda2020', 'url': 'http://twitter.com/search?q=%23AndrzejDuda2020', 'promoted_content': None, 'query': '%23AndrzejDuda2020', 'tweet_volume': None}, {'name': '#loona_sowhat', 'url': 'http://twitter.com/search?q=%23loona_sowhat', 'promoted_content': None, 'query': '%23loona_sowhat', 'tweet_volume': 186343}, {'name': '#Jedziemy', 'url': 'http://twitter.com/search?q=%23Jedziemy', 'promoted_content': None, 'query': '%23Jedziemy', 'tweet_volume': None}, {'name': '#calm', 'url': 'http://twitter.com/search?q=%23calm', 'promoted_content': None, 'query': '%23calm', 'tweet_volume': 17609}, {'name': '#koszkadra', 'url': 'http://twitter.com/search?q=%23koszkadra', 'promoted_content': None, 'query': '%23koszkadra', 'tweet_volume': None}, {'name': '#WyPADzPałacu', 'url': 'http://twitter.com/search?q=%23WyPADzPa%C5%82acu', 'promoted_content': None, 'query': '%23WyPADzPa%C5%82acu', 'tweet_volume': None}, {'name': '#sanremo2020', 'url': 'http://twitter.com/search?q=%23sanremo2020', 'promoted_content': None, 'query': '%23sanremo2020', 'tweet_volume': 336083}, {'name': '#wtylewizji', 'url': 'http://twitter.com/search?q=%23wtylewizji', 'promoted_content': None, 'query': '%23wtylewizji', 'tweet_volume': None}, {'name': '#minela8', 'url': 'http://twitter.com/search?q=%23minela8', 'promoted_content': None, 'query': '%23minela8', 'tweet_volume': None}, {'name': '#trump', 'url': 'http://twitter.com/search?q=%23trump', 'promoted_content': None, 'query': '%23trump', 'tweet_volume': 91671}], 'as_of': '2020-02-06T10:45:04Z', 'created_at': '2020-02-06T10:36:54Z', 'locations': [{'name': 'Warsaw', 'woeid': 523920}]}]\n"
     ]
    }
   ],
   "source": [
    "AMSTERDAM_WOE_ID = 727232 # WOEID for Amsterdam\n",
    "# amsterdam_trends = twitter_api.trends.place(_id=AMSTERDAM_WOE_ID) # get back a callable\n",
    "# print(amsterdam_trends)\n",
    "WARSAW_WOE_ID = 523920\n",
    "warsaw_trends = twitter_api.trends.place(_id=WARSAW_WOE_ID)\n",
    "print(warsaw_trends)"
   ]
  },
  {
   "cell_type": "markdown",
   "metadata": {},
   "source": [
    "### 1.2: Retrieving search results (from Example 1-5/9-3 in Mining the Social Web):"
   ]
  },
  {
   "cell_type": "code",
   "execution_count": 33,
   "metadata": {},
   "outputs": [
    {
     "name": "stdout",
     "output_type": "stream",
     "text": [
      "<class 'list'>\n",
      "{\n",
      " \"created_at\": \"Thu Feb 06 11:16:06 +0000 2020\",\n",
      " \"id\": 1225377623808847872,\n",
      " \"id_str\": \"1225377623808847872\",\n",
      " \"text\": \"RT @ChampionsLeague: \\ud83c\\udde7\\ud83c\\uddf7 Ronaldinho ballin' out against AC Milan in 2006 \\ud83d\\ude0e\\n\\n#UCL | #ThrowbackThursday https://t.co/UamHlVSmQV\",\n",
      " \"truncated\": false,\n",
      " \"entities\": {\n",
      "  \"hashtags\": [\n",
      "   {\n",
      "    \"text\": \"UCL\",\n",
      "    \"indices\": [\n",
      "     75,\n",
      "     79\n",
      "    ]\n",
      "   },\n",
      "   {\n",
      "    \"text\": \"ThrowbackThursday\",\n",
      "    \"indices\": [\n",
      "     82,\n",
      "     100\n",
      "    ]\n",
      "   }\n",
      "  ],\n",
      "  \"symbols\": [],\n",
      "  \"user_mentions\": [\n",
      "   {\n",
      "    \"screen_name\": \"ChampionsLeague\",\n",
      "    \"name\": \"UEFA Champions League\",\n",
      "    \"id\": 627673190,\n",
      "    \"id_str\": \"627673190\",\n",
      "    \"indices\": [\n",
      "     3,\n",
      "     19\n",
      "    ]\n",
      "   }\n",
      "  ],\n",
      "  \"urls\": [],\n",
      "  \"media\": [\n",
      "   {\n",
      "    \"id\": 1156867268992733184,\n",
      "    \"id_str\": \"1156867268992733184\",\n",
      "    \"indices\": [\n",
      "     101,\n",
      "     124\n",
      "    ],\n",
      "    \"media_url\": \"http://pbs.twimg.com/media/EA4FXDsWwAAkpdF.jpg\",\n",
      "    \"media_url_https\": \"https://pbs.twimg.com/media/EA4FXDsWwAAkpdF.jpg\",\n",
      "    \"url\": \"https://t.co/UamHlVSmQV\",\n",
      "    \"display_url\": \"pic.twitter.com/UamHlVSmQV\",\n",
      "    \"expanded_url\": \"https://twitter.com/ChampionsLeague/status/1225345630488481794/video/1\",\n",
      "    \"type\": \"photo\",\n",
      "    \"sizes\": {\n",
      "     \"small\": {\n",
      "      \"w\": 675,\n",
      "      \"h\": 680,\n",
      "      \"resize\": \"fit\"\n",
      "     },\n",
      "     \"thumb\": {\n",
      "      \"w\": 150,\n",
      "      \"h\": 150,\n",
      "      \"resize\": \"crop\"\n",
      "     },\n",
      "     \"medium\": {\n",
      "      \"w\": 1072,\n",
      "      \"h\": 1080,\n",
      "      \"resize\": \"fit\"\n",
      "     },\n",
      "     \"large\": {\n",
      "      \"w\": 1072,\n",
      "      \"h\": 1080,\n",
      "      \"resize\": \"fit\"\n",
      "     }\n",
      "    },\n",
      "    \"source_status_id\": 1225345630488481794,\n",
      "    \"source_status_id_str\": \"1225345630488481794\",\n",
      "    \"source_user_id\": 627673190,\n",
      "    \"source_user_id_str\": \"627673190\"\n",
      "   }\n",
      "  ]\n",
      " },\n",
      " \"extended_entities\": {\n",
      "  \"media\": [\n",
      "   {\n",
      "    \"id\": 1156867268992733184,\n",
      "    \"id_str\": \"1156867268992733184\",\n",
      "    \"indices\": [\n",
      "     101,\n",
      "     124\n",
      "    ],\n",
      "    \"media_url\": \"http://pbs.twimg.com/media/EA4FXDsWwAAkpdF.jpg\",\n",
      "    \"media_url_https\": \"https://pbs.twimg.com/media/EA4FXDsWwAAkpdF.jpg\",\n",
      "    \"url\": \"https://t.co/UamHlVSmQV\",\n",
      "    \"display_url\": \"pic.twitter.com/UamHlVSmQV\",\n",
      "    \"expanded_url\": \"https://twitter.com/ChampionsLeague/status/1225345630488481794/video/1\",\n",
      "    \"type\": \"video\",\n",
      "    \"sizes\": {\n",
      "     \"small\": {\n",
      "      \"w\": 675,\n",
      "      \"h\": 680,\n",
      "      \"resize\": \"fit\"\n",
      "     },\n",
      "     \"thumb\": {\n",
      "      \"w\": 150,\n",
      "      \"h\": 150,\n",
      "      \"resize\": \"crop\"\n",
      "     },\n",
      "     \"medium\": {\n",
      "      \"w\": 1072,\n",
      "      \"h\": 1080,\n",
      "      \"resize\": \"fit\"\n",
      "     },\n",
      "     \"large\": {\n",
      "      \"w\": 1072,\n",
      "      \"h\": 1080,\n",
      "      \"resize\": \"fit\"\n",
      "     }\n",
      "    },\n",
      "    \"source_status_id\": 1225345630488481794,\n",
      "    \"source_status_id_str\": \"1225345630488481794\",\n",
      "    \"source_user_id\": 627673190,\n",
      "    \"source_user_id_str\": \"627673190\",\n",
      "    \"video_info\": {\n",
      "     \"aspect_ratio\": [\n",
      "      1,\n",
      "      1\n",
      "     ],\n",
      "     \"duration_millis\": 85960,\n",
      "     \"variants\": [\n",
      "      {\n",
      "       \"bitrate\": 1280000,\n",
      "       \"content_type\": \"video/mp4\",\n",
      "       \"url\": \"https://video.twimg.com/amplify_video/1156867268992733184/vid/720x720/Gh6CMgG4aDPZiTxf.mp4?tag=13\"\n",
      "      },\n",
      "      {\n",
      "       \"bitrate\": 832000,\n",
      "       \"content_type\": \"video/mp4\",\n",
      "       \"url\": \"https://video.twimg.com/amplify_video/1156867268992733184/vid/480x480/f7SQEq-qMowWlxyt.mp4?tag=13\"\n",
      "      },\n",
      "      {\n",
      "       \"bitrate\": 432000,\n",
      "       \"content_type\": \"video/mp4\",\n",
      "       \"url\": \"https://video.twimg.com/amplify_video/1156867268992733184/vid/320x320/UGfYUuCSlkHrWAO8.mp4?tag=13\"\n",
      "      },\n",
      "      {\n",
      "       \"content_type\": \"application/x-mpegURL\",\n",
      "       \"url\": \"https://video.twimg.com/amplify_video/1156867268992733184/pl/txM82Isj-rCKakIO.m3u8?tag=13\"\n",
      "      }\n",
      "     ]\n",
      "    },\n",
      "    \"additional_media_info\": {\n",
      "     \"title\": \"\",\n",
      "     \"description\": \"\",\n",
      "     \"embeddable\": true,\n",
      "     \"monetizable\": false,\n",
      "     \"source_user\": {\n",
      "      \"id\": 627673190,\n",
      "      \"id_str\": \"627673190\",\n",
      "      \"name\": \"UEFA Champions League\",\n",
      "      \"screen_name\": \"ChampionsLeague\",\n",
      "      \"location\": \"Nyon, Vaud\",\n",
      "      \"description\": \"#UCL\\nSpanish: @LigadeCampeones  U19: @UEFAYouthLeague\",\n",
      "      \"url\": \"https://t.co/Sg7pFC8lHL\",\n",
      "      \"entities\": {\n",
      "       \"url\": {\n",
      "        \"urls\": [\n",
      "         {\n",
      "          \"url\": \"https://t.co/Sg7pFC8lHL\",\n",
      "          \"expanded_url\": \"http://UEFA.tv\",\n",
      "          \"display_url\": \"UEFA.tv\",\n",
      "          \"indices\": [\n",
      "           0,\n",
      "           23\n",
      "          ]\n",
      "         }\n",
      "        ]\n",
      "       },\n",
      "       \"description\": {\n",
      "        \"urls\": []\n",
      "       }\n",
      "      },\n",
      "      \"protected\": false,\n",
      "      \"followers_count\": 26762649,\n",
      "      \"friends_count\": 525,\n",
      "      \"listed_count\": 21679,\n",
      "      \"created_at\": \"Thu Jul 05 19:43:40 +0000 2012\",\n",
      "      \"favourites_count\": 2012,\n",
      "      \"utc_offset\": null,\n",
      "      \"time_zone\": null,\n",
      "      \"geo_enabled\": false,\n",
      "      \"verified\": true,\n",
      "      \"statuses_count\": 64302,\n",
      "      \"lang\": null,\n",
      "      \"contributors_enabled\": false,\n",
      "      \"is_translator\": false,\n",
      "      \"is_translation_enabled\": true,\n",
      "      \"profile_background_color\": \"022330\",\n",
      "      \"profile_background_image_url\": \"http://abs.twimg.com/images/themes/theme1/bg.png\",\n",
      "      \"profile_background_image_url_https\": \"https://abs.twimg.com/images/themes/theme1/bg.png\",\n",
      "      \"profile_background_tile\": false,\n",
      "      \"profile_image_url\": \"http://pbs.twimg.com/profile_images/1073607078109949957/74oimLX4_normal.jpg\",\n",
      "      \"profile_image_url_https\": \"https://pbs.twimg.com/profile_images/1073607078109949957/74oimLX4_normal.jpg\",\n",
      "      \"profile_banner_url\": \"https://pbs.twimg.com/profile_banners/627673190/1560420957\",\n",
      "      \"profile_link_color\": \"1B95E0\",\n",
      "      \"profile_sidebar_border_color\": \"FFFFFF\",\n",
      "      \"profile_sidebar_fill_color\": \"DDEEF6\",\n",
      "      \"profile_text_color\": \"333333\",\n",
      "      \"profile_use_background_image\": true,\n",
      "      \"has_extended_profile\": false,\n",
      "      \"default_profile\": false,\n",
      "      \"default_profile_image\": false,\n",
      "      \"following\": false,\n",
      "      \"follow_request_sent\": false,\n",
      "      \"notifications\": false,\n",
      "      \"translator_type\": \"none\"\n",
      "     }\n",
      "    }\n",
      "   }\n",
      "  ]\n",
      " },\n",
      " \"metadata\": {\n",
      "  \"iso_language_code\": \"en\",\n",
      "  \"result_type\": \"recent\"\n",
      " },\n",
      " \"source\": \"<a href=\\\"https://mobile.twitter.com\\\" rel=\\\"nofollow\\\">Twitter Web App</a>\",\n",
      " \"in_reply_to_status_id\": null,\n",
      " \"in_reply_to_status_id_str\": null,\n",
      " \"in_reply_to_user_id\": null,\n",
      " \"in_reply_to_user_id_str\": null,\n",
      " \"in_reply_to_screen_name\": null,\n",
      " \"user\": {\n",
      "  \"id\": 1184657337610657794,\n",
      "  \"id_str\": \"1184657337610657794\",\n",
      "  \"name\": \"Joslin Etoga Ndzana\",\n",
      "  \"screen_name\": \"EtogaJoslin\",\n",
      "  \"location\": \"Saint Paul Minnesota \",\n",
      "  \"description\": \"Subscribe to ZHC\\nZHC Gang for life\\nSubscribe to ZHC\",\n",
      "  \"url\": null,\n",
      "  \"entities\": {\n",
      "   \"description\": {\n",
      "    \"urls\": []\n",
      "   }\n",
      "  },\n",
      "  \"protected\": false,\n",
      "  \"followers_count\": 2,\n",
      "  \"friends_count\": 22,\n",
      "  \"listed_count\": 0,\n",
      "  \"created_at\": \"Thu Oct 17 02:28:36 +0000 2019\",\n",
      "  \"favourites_count\": 963,\n",
      "  \"utc_offset\": null,\n",
      "  \"time_zone\": null,\n",
      "  \"geo_enabled\": false,\n",
      "  \"verified\": false,\n",
      "  \"statuses_count\": 665,\n",
      "  \"lang\": null,\n",
      "  \"contributors_enabled\": false,\n",
      "  \"is_translator\": false,\n",
      "  \"is_translation_enabled\": false,\n",
      "  \"profile_background_color\": \"F5F8FA\",\n",
      "  \"profile_background_image_url\": null,\n",
      "  \"profile_background_image_url_https\": null,\n",
      "  \"profile_background_tile\": false,\n",
      "  \"profile_image_url\": \"http://pbs.twimg.com/profile_images/1194070219842560001/Nl9WTJ3a_normal.jpg\",\n",
      "  \"profile_image_url_https\": \"https://pbs.twimg.com/profile_images/1194070219842560001/Nl9WTJ3a_normal.jpg\",\n",
      "  \"profile_link_color\": \"1DA1F2\",\n",
      "  \"profile_sidebar_border_color\": \"C0DEED\",\n",
      "  \"profile_sidebar_fill_color\": \"DDEEF6\",\n",
      "  \"profile_text_color\": \"333333\",\n",
      "  \"profile_use_background_image\": true,\n",
      "  \"has_extended_profile\": true,\n",
      "  \"default_profile\": true,\n",
      "  \"default_profile_image\": false,\n",
      "  \"following\": false,\n",
      "  \"follow_request_sent\": false,\n",
      "  \"notifications\": false,\n",
      "  \"translator_type\": \"none\"\n",
      " },\n",
      " \"geo\": null,\n",
      " \"coordinates\": null,\n",
      " \"place\": null,\n",
      " \"contributors\": null,\n",
      " \"retweeted_status\": {\n",
      "  \"created_at\": \"Thu Feb 06 09:08:58 +0000 2020\",\n",
      "  \"id\": 1225345630488481794,\n",
      "  \"id_str\": \"1225345630488481794\",\n",
      "  \"text\": \"\\ud83c\\udde7\\ud83c\\uddf7 Ronaldinho ballin' out against AC Milan in 2006 \\ud83d\\ude0e\\n\\n#UCL | #ThrowbackThursday https://t.co/UamHlVSmQV\",\n",
      "  \"truncated\": false,\n",
      "  \"entities\": {\n",
      "   \"hashtags\": [\n",
      "    {\n",
      "     \"text\": \"UCL\",\n",
      "     \"indices\": [\n",
      "      54,\n",
      "      58\n",
      "     ]\n",
      "    },\n",
      "    {\n",
      "     \"text\": \"ThrowbackThursday\",\n",
      "     \"indices\": [\n",
      "      61,\n",
      "      79\n",
      "     ]\n",
      "    }\n",
      "   ],\n",
      "   \"symbols\": [],\n",
      "   \"user_mentions\": [],\n",
      "   \"urls\": [],\n",
      "   \"media\": [\n",
      "    {\n",
      "     \"id\": 1156867268992733184,\n",
      "     \"id_str\": \"1156867268992733184\",\n",
      "     \"indices\": [\n",
      "      80,\n",
      "      103\n",
      "     ],\n",
      "     \"media_url\": \"http://pbs.twimg.com/media/EA4FXDsWwAAkpdF.jpg\",\n",
      "     \"media_url_https\": \"https://pbs.twimg.com/media/EA4FXDsWwAAkpdF.jpg\",\n",
      "     \"url\": \"https://t.co/UamHlVSmQV\",\n",
      "     \"display_url\": \"pic.twitter.com/UamHlVSmQV\",\n",
      "     \"expanded_url\": \"https://twitter.com/ChampionsLeague/status/1225345630488481794/video/1\",\n",
      "     \"type\": \"photo\",\n",
      "     \"sizes\": {\n",
      "      \"small\": {\n",
      "       \"w\": 675,\n",
      "       \"h\": 680,\n",
      "       \"resize\": \"fit\"\n",
      "      },\n",
      "      \"thumb\": {\n",
      "       \"w\": 150,\n",
      "       \"h\": 150,\n",
      "       \"resize\": \"crop\"\n",
      "      },\n",
      "      \"medium\": {\n",
      "       \"w\": 1072,\n",
      "       \"h\": 1080,\n",
      "       \"resize\": \"fit\"\n",
      "      },\n",
      "      \"large\": {\n",
      "       \"w\": 1072,\n",
      "       \"h\": 1080,\n",
      "       \"resize\": \"fit\"\n",
      "      }\n",
      "     }\n",
      "    }\n",
      "   ]\n",
      "  },\n",
      "  \"extended_entities\": {\n",
      "   \"media\": [\n",
      "    {\n",
      "     \"id\": 1156867268992733184,\n",
      "     \"id_str\": \"1156867268992733184\",\n",
      "     \"indices\": [\n",
      "      80,\n",
      "      103\n",
      "     ],\n",
      "     \"media_url\": \"http://pbs.twimg.com/media/EA4FXDsWwAAkpdF.jpg\",\n",
      "     \"media_url_https\": \"https://pbs.twimg.com/media/EA4FXDsWwAAkpdF.jpg\",\n",
      "     \"url\": \"https://t.co/UamHlVSmQV\",\n",
      "     \"display_url\": \"pic.twitter.com/UamHlVSmQV\",\n",
      "     \"expanded_url\": \"https://twitter.com/ChampionsLeague/status/1225345630488481794/video/1\",\n",
      "     \"type\": \"video\",\n",
      "     \"sizes\": {\n",
      "      \"small\": {\n",
      "       \"w\": 675,\n",
      "       \"h\": 680,\n",
      "       \"resize\": \"fit\"\n",
      "      },\n",
      "      \"thumb\": {\n",
      "       \"w\": 150,\n",
      "       \"h\": 150,\n",
      "       \"resize\": \"crop\"\n",
      "      },\n",
      "      \"medium\": {\n",
      "       \"w\": 1072,\n",
      "       \"h\": 1080,\n",
      "       \"resize\": \"fit\"\n",
      "      },\n",
      "      \"large\": {\n",
      "       \"w\": 1072,\n",
      "       \"h\": 1080,\n",
      "       \"resize\": \"fit\"\n",
      "      }\n",
      "     },\n",
      "     \"video_info\": {\n",
      "      \"aspect_ratio\": [\n",
      "       1,\n",
      "       1\n",
      "      ],\n",
      "      \"duration_millis\": 85960,\n",
      "      \"variants\": [\n",
      "       {\n",
      "        \"bitrate\": 1280000,\n",
      "        \"content_type\": \"video/mp4\",\n",
      "        \"url\": \"https://video.twimg.com/amplify_video/1156867268992733184/vid/720x720/Gh6CMgG4aDPZiTxf.mp4?tag=13\"\n",
      "       },\n",
      "       {\n",
      "        \"bitrate\": 832000,\n",
      "        \"content_type\": \"video/mp4\",\n",
      "        \"url\": \"https://video.twimg.com/amplify_video/1156867268992733184/vid/480x480/f7SQEq-qMowWlxyt.mp4?tag=13\"\n",
      "       },\n",
      "       {\n",
      "        \"bitrate\": 432000,\n",
      "        \"content_type\": \"video/mp4\",\n",
      "        \"url\": \"https://video.twimg.com/amplify_video/1156867268992733184/vid/320x320/UGfYUuCSlkHrWAO8.mp4?tag=13\"\n",
      "       },\n",
      "       {\n",
      "        \"content_type\": \"application/x-mpegURL\",\n",
      "        \"url\": \"https://video.twimg.com/amplify_video/1156867268992733184/pl/txM82Isj-rCKakIO.m3u8?tag=13\"\n",
      "       }\n",
      "      ]\n",
      "     },\n",
      "     \"additional_media_info\": {\n",
      "      \"title\": \"\",\n",
      "      \"description\": \"\",\n",
      "      \"embeddable\": true,\n",
      "      \"monetizable\": false\n",
      "     }\n",
      "    }\n",
      "   ]\n",
      "  },\n",
      "  \"metadata\": {\n",
      "   \"iso_language_code\": \"en\",\n",
      "   \"result_type\": \"recent\"\n",
      "  },\n",
      "  \"source\": \"<a href=\\\"https://studio.twitter.com\\\" rel=\\\"nofollow\\\">Twitter Media Studio</a>\",\n",
      "  \"in_reply_to_status_id\": null,\n",
      "  \"in_reply_to_status_id_str\": null,\n",
      "  \"in_reply_to_user_id\": null,\n",
      "  \"in_reply_to_user_id_str\": null,\n",
      "  \"in_reply_to_screen_name\": null,\n",
      "  \"user\": {\n",
      "   \"id\": 627673190,\n",
      "   \"id_str\": \"627673190\",\n",
      "   \"name\": \"UEFA Champions League\",\n",
      "   \"screen_name\": \"ChampionsLeague\",\n",
      "   \"location\": \"Nyon, Vaud\",\n",
      "   \"description\": \"#UCL\\nSpanish: @LigadeCampeones  U19: @UEFAYouthLeague\",\n",
      "   \"url\": \"https://t.co/Sg7pFC8lHL\",\n",
      "   \"entities\": {\n",
      "    \"url\": {\n",
      "     \"urls\": [\n",
      "      {\n",
      "       \"url\": \"https://t.co/Sg7pFC8lHL\",\n",
      "       \"expanded_url\": \"http://UEFA.tv\",\n",
      "       \"display_url\": \"UEFA.tv\",\n",
      "       \"indices\": [\n",
      "        0,\n",
      "        23\n",
      "       ]\n",
      "      }\n",
      "     ]\n",
      "    },\n",
      "    \"description\": {\n",
      "     \"urls\": []\n",
      "    }\n",
      "   },\n",
      "   \"protected\": false,\n",
      "   \"followers_count\": 26762649,\n",
      "   \"friends_count\": 525,\n",
      "   \"listed_count\": 21679,\n",
      "   \"created_at\": \"Thu Jul 05 19:43:40 +0000 2012\",\n",
      "   \"favourites_count\": 2012,\n",
      "   \"utc_offset\": null,\n",
      "   \"time_zone\": null,\n",
      "   \"geo_enabled\": false,\n",
      "   \"verified\": true,\n",
      "   \"statuses_count\": 64302,\n",
      "   \"lang\": null,\n",
      "   \"contributors_enabled\": false,\n",
      "   \"is_translator\": false,\n",
      "   \"is_translation_enabled\": true,\n",
      "   \"profile_background_color\": \"022330\",\n",
      "   \"profile_background_image_url\": \"http://abs.twimg.com/images/themes/theme1/bg.png\",\n",
      "   \"profile_background_image_url_https\": \"https://abs.twimg.com/images/themes/theme1/bg.png\",\n",
      "   \"profile_background_tile\": false,\n",
      "   \"profile_image_url\": \"http://pbs.twimg.com/profile_images/1073607078109949957/74oimLX4_normal.jpg\",\n",
      "   \"profile_image_url_https\": \"https://pbs.twimg.com/profile_images/1073607078109949957/74oimLX4_normal.jpg\",\n",
      "   \"profile_banner_url\": \"https://pbs.twimg.com/profile_banners/627673190/1560420957\",\n",
      "   \"profile_link_color\": \"1B95E0\",\n",
      "   \"profile_sidebar_border_color\": \"FFFFFF\",\n",
      "   \"profile_sidebar_fill_color\": \"DDEEF6\",\n",
      "   \"profile_text_color\": \"333333\",\n",
      "   \"profile_use_background_image\": true,\n",
      "   \"has_extended_profile\": false,\n",
      "   \"default_profile\": false,\n",
      "   \"default_profile_image\": false,\n",
      "   \"following\": false,\n",
      "   \"follow_request_sent\": false,\n",
      "   \"notifications\": false,\n",
      "   \"translator_type\": \"none\"\n",
      "  },\n",
      "  \"geo\": null,\n",
      "  \"coordinates\": null,\n",
      "  \"place\": null,\n",
      "  \"contributors\": null,\n",
      "  \"is_quote_status\": false,\n",
      "  \"retweet_count\": 2900,\n",
      "  \"favorite_count\": 16057,\n",
      "  \"favorited\": false,\n",
      "  \"retweeted\": false,\n",
      "  \"possibly_sensitive\": false,\n",
      "  \"lang\": \"en\"\n",
      " },\n",
      " \"is_quote_status\": false,\n",
      " \"retweet_count\": 2900,\n",
      " \"favorite_count\": 0,\n",
      " \"favorited\": false,\n",
      " \"retweeted\": false,\n",
      " \"possibly_sensitive\": true,\n",
      " \"lang\": \"en\"\n",
      "}\n"
     ]
    }
   ],
   "source": [
    "q = '#ThrowbackThursday' # XXX: Set this variable to a trending topic, or anything else you like. \n",
    "count = 100 # number of results to retrieve\n",
    "\n",
    "# See https://dev.twitter.com/docs/api/1.1/get/search/tweets for more info\n",
    "\n",
    "search_results = twitter_api.search.tweets(q=q, count=count) # search for your query 'q' 100 times\n",
    "statuses = search_results['statuses'] # extract the tweets found\n",
    "\n",
    "# The following code allows you to print in a nice format the contents of search_results\n",
    "import json\n",
    "print(type(statuses))\n",
    "print(json.dumps(statuses[0], indent=1))"
   ]
  },
  {
   "cell_type": "markdown",
   "metadata": {},
   "source": [
    "### Task 2\n",
    "\n",
    "In the cell below, create a second variable (e.g. `statuses2`) that holds the results of a query other than the one presented above. Think about a query that would yield very different results than the first one, for example one that may yield a shorter output or about a different topic."
   ]
  },
  {
   "cell_type": "code",
   "execution_count": 48,
   "metadata": {},
   "outputs": [
    {
     "name": "stdout",
     "output_type": "stream",
     "text": [
      "{\n",
      " \"created_at\": \"Thu Feb 06 09:39:17 +0000 2020\",\n",
      " \"id\": 1225353257234632706,\n",
      " \"id_str\": \"1225353257234632706\",\n",
      " \"text\": \"@KosiniakKamysz @szymon_holownia \\u015awietny spot #szymonholownia. Prosz\\u0119 odnie\\u015b\\u0107 si\\u0119 do jego meritum i nie do\\u0142\\u0105cza\\u0107 do\\u2026 https://t.co/ZdekVBrAJy\",\n",
      " \"truncated\": true,\n",
      " \"entities\": {\n",
      "  \"hashtags\": [\n",
      "   {\n",
      "    \"text\": \"szymonholownia\",\n",
      "    \"indices\": [\n",
      "     46,\n",
      "     61\n",
      "    ]\n",
      "   }\n",
      "  ],\n",
      "  \"symbols\": [],\n",
      "  \"user_mentions\": [\n",
      "   {\n",
      "    \"screen_name\": \"KosiniakKamysz\",\n",
      "    \"name\": \"W.Kosiniak-Kamysz\",\n",
      "    \"id\": 955239446,\n",
      "    \"id_str\": \"955239446\",\n",
      "    \"indices\": [\n",
      "     0,\n",
      "     15\n",
      "    ]\n",
      "   },\n",
      "   {\n",
      "    \"screen_name\": \"szymon_holownia\",\n",
      "    \"name\": \"Szymon Ho\\u0142ownia Oficjalny\",\n",
      "    \"id\": 1193947151971311618,\n",
      "    \"id_str\": \"1193947151971311618\",\n",
      "    \"indices\": [\n",
      "     16,\n",
      "     32\n",
      "    ]\n",
      "   }\n",
      "  ],\n",
      "  \"urls\": [\n",
      "   {\n",
      "    \"url\": \"https://t.co/ZdekVBrAJy\",\n",
      "    \"expanded_url\": \"https://twitter.com/i/web/status/1225353257234632706\",\n",
      "    \"display_url\": \"twitter.com/i/web/status/1\\u2026\",\n",
      "    \"indices\": [\n",
      "     117,\n",
      "     140\n",
      "    ]\n",
      "   }\n",
      "  ]\n",
      " },\n",
      " \"metadata\": {\n",
      "  \"iso_language_code\": \"pl\",\n",
      "  \"result_type\": \"recent\"\n",
      " },\n",
      " \"source\": \"<a href=\\\"http://twitter.com/download/android\\\" rel=\\\"nofollow\\\">Twitter for Android</a>\",\n",
      " \"in_reply_to_status_id\": 1225169467434524672,\n",
      " \"in_reply_to_status_id_str\": \"1225169467434524672\",\n",
      " \"in_reply_to_user_id\": 955239446,\n",
      " \"in_reply_to_user_id_str\": \"955239446\",\n",
      " \"in_reply_to_screen_name\": \"KosiniakKamysz\",\n",
      " \"user\": {\n",
      "  \"id\": 1044158285174247425,\n",
      "  \"id_str\": \"1044158285174247425\",\n",
      "  \"name\": \"Jacek Bartmi\\u0144ski\",\n",
      "  \"screen_name\": \"JBartminski\",\n",
      "  \"location\": \"Warszawa, Polska\",\n",
      "  \"description\": \"\",\n",
      "  \"url\": null,\n",
      "  \"entities\": {\n",
      "   \"description\": {\n",
      "    \"urls\": []\n",
      "   }\n",
      "  },\n",
      "  \"protected\": false,\n",
      "  \"followers_count\": 0,\n",
      "  \"friends_count\": 4,\n",
      "  \"listed_count\": 0,\n",
      "  \"created_at\": \"Mon Sep 24 09:35:09 +0000 2018\",\n",
      "  \"favourites_count\": 87,\n",
      "  \"utc_offset\": null,\n",
      "  \"time_zone\": null,\n",
      "  \"geo_enabled\": false,\n",
      "  \"verified\": false,\n",
      "  \"statuses_count\": 13,\n",
      "  \"lang\": null,\n",
      "  \"contributors_enabled\": false,\n",
      "  \"is_translator\": false,\n",
      "  \"is_translation_enabled\": false,\n",
      "  \"profile_background_color\": \"F5F8FA\",\n",
      "  \"profile_background_image_url\": null,\n",
      "  \"profile_background_image_url_https\": null,\n",
      "  \"profile_background_tile\": false,\n",
      "  \"profile_image_url\": \"http://abs.twimg.com/sticky/default_profile_images/default_profile_normal.png\",\n",
      "  \"profile_image_url_https\": \"https://abs.twimg.com/sticky/default_profile_images/default_profile_normal.png\",\n",
      "  \"profile_link_color\": \"1DA1F2\",\n",
      "  \"profile_sidebar_border_color\": \"C0DEED\",\n",
      "  \"profile_sidebar_fill_color\": \"DDEEF6\",\n",
      "  \"profile_text_color\": \"333333\",\n",
      "  \"profile_use_background_image\": true,\n",
      "  \"has_extended_profile\": false,\n",
      "  \"default_profile\": true,\n",
      "  \"default_profile_image\": true,\n",
      "  \"following\": false,\n",
      "  \"follow_request_sent\": false,\n",
      "  \"notifications\": false,\n",
      "  \"translator_type\": \"none\"\n",
      " },\n",
      " \"geo\": null,\n",
      " \"coordinates\": null,\n",
      " \"place\": null,\n",
      " \"contributors\": null,\n",
      " \"is_quote_status\": false,\n",
      " \"retweet_count\": 0,\n",
      " \"favorite_count\": 0,\n",
      " \"favorited\": false,\n",
      " \"retweeted\": false,\n",
      " \"lang\": \"pl\"\n",
      "}\n"
     ]
    }
   ],
   "source": [
    "q2 = '#SzymonHołownia'\n",
    "count2 = 100\n",
    "\n",
    "search_results2 = twitter_api.search.tweets(q=q2, count=count2)\n",
    "statuses2 = search_results2['statuses']\n",
    "\n",
    "print(json.dumps(statuses2[0], indent=1))"
   ]
  },
  {
   "cell_type": "markdown",
   "metadata": {},
   "source": [
    "## Part 2: Extracting text, screen names, and hashtags from tweets (from Example 1-6 in Mining the Social Web)\n",
    "\n",
    "Simply printing all the search results to screen is nice, but to really start analysing them, it is handy to select the interesting parts and store them in a different structure such as a list. \n",
    "\n",
    "In this example you are using a thing called \"List Comprehension\".\n",
    "\n",
    "### 2.1 List Comprehensions\n",
    "List comprehension is a powerful construct that allows to succinctly build a list.\n",
    "With it you can process items from any iterable (e.g. dictionaries, lists, tuples, iterators...) and output a list while optionally performing an operation on each value.\n",
    "\n",
    "Here's a few examples:"
   ]
  },
  {
   "cell_type": "code",
   "execution_count": 49,
   "metadata": {},
   "outputs": [
    {
     "name": "stdout",
     "output_type": "stream",
     "text": [
      "[0, 2, 4, 6, 8, 10, 12, 14, 16, 18]\n",
      "[1, 9, 25, 49, 81]\n",
      "['The', 'Social', 'Web']\n",
      "[3, 6, 3]\n",
      "[1, 2, 3, 4, 5, 6, 7, 8, 9]\n"
     ]
    }
   ],
   "source": [
    "# double all values from 0 to 9\n",
    "double_list = [i*2 for i in range(10)]\n",
    "# raise to the power of 2, but only if the number is uneven\n",
    "power_even_list = [i**2 for i in range(10) if i%2!=0]\n",
    "# clean strings in a tuple\n",
    "stripped_lines = [x.strip() for x in ('The\\n', 'Social\\n', 'Web\\n')]\n",
    "# return length of each string in stripped_lines\n",
    "len_str_lines = [len(s) for s in stripped_lines]\n",
    "# finally, we can nest list comprehensions to flatten a list of lists:\n",
    "list_of_lists = [[1, 2, 3], [4, 5, 6], [7, 8, 9]]\n",
    "range_9 = [x for y in list_of_lists for x in y]\n",
    "\n",
    "print(double_list)\n",
    "print(power_even_list)\n",
    "print(stripped_lines)\n",
    "print(len_str_lines)\n",
    "print(range_9)"
   ]
  },
  {
   "cell_type": "markdown",
   "metadata": {},
   "source": [
    "### 2.2 Parsing text, screen names and hashtags from tweets\n",
    "*(from Example 1-6 in Mining the Social Web)*\n",
    "\n",
    "Hereafter, we'll be creating a variable `status_texts` of type list. \\\n",
    "The list will be filled with the `text` elements from each `status`, whereas `status` comes from looping through all `statuses` in the `search_results` list (1.2). \\\n",
    "Look up the list comprehensions in your Python reference materials to make sure you understand what's happening here. "
   ]
  },
  {
   "cell_type": "code",
   "execution_count": 68,
   "metadata": {},
   "outputs": [
    {
     "name": "stdout",
     "output_type": "stream",
     "text": [
      "[\n",
      " \"RT @ChampionsLeague: \\ud83c\\udde7\\ud83c\\uddf7 Ronaldinho ballin' out against AC Milan in 2006 \\ud83d\\ude0e\\n\\n#UCL | #ThrowbackThursday https://t.co/UamHlVSmQV\",\n",
      " \"RT @TorosenDonosti: \\ud83d\\udc40\\ud83d\\udd19  Hoy nos vamos 20 a\\u00f1os atr\\u00e1s para recordar la faena de Jos\\u00e9 Tom\\u00e1s  en la Semana Grande Donostiarra \\ud83d\\ude0d\\n\\n #tbt #throwba\\u2026\",\n",
      " \"RT @ChampionsLeague: \\ud83c\\udde7\\ud83c\\uddf7 Ronaldinho ballin' out against AC Milan in 2006 \\ud83d\\ude0e\\n\\n#UCL | #ThrowbackThursday https://t.co/UamHlVSmQV\",\n",
      " \"RT @ChampionsLeague: \\ud83c\\udde7\\ud83c\\uddf7 Ronaldinho ballin' out against AC Milan in 2006 \\ud83d\\ude0e\\n\\n#UCL | #ThrowbackThursday https://t.co/UamHlVSmQV\",\n",
      " \"RT @G2esports: Los sue\\u00f1os se hacen realidad @IbaiLlanos \\u2764\\ufe0f \\ud83c\\uddea\\ud83c\\uddf8 #ThrowbackThursday https://t.co/UxSsXSZQ2i\"\n",
      "]\n",
      "[\n",
      " \"ChampionsLeague\",\n",
      " \"TorosenDonosti\",\n",
      " \"ChampionsLeague\",\n",
      " \"ChampionsLeague\",\n",
      " \"G2esports\"\n",
      "]\n",
      "[\n",
      " \"UCL\",\n",
      " \"ThrowbackThursday\",\n",
      " \"tbt\",\n",
      " \"UCL\",\n",
      " \"ThrowbackThursday\"\n",
      "]\n",
      "[\n",
      " \"RT\",\n",
      " \"@ChampionsLeague:\",\n",
      " \"\\ud83c\\udde7\\ud83c\\uddf7\",\n",
      " \"Ronaldinho\",\n",
      " \"ballin'\"\n",
      "]\n"
     ]
    }
   ],
   "source": [
    "status_texts = [ status['text'] for status in statuses ]\n",
    "# the escape character \"\\\" allows for the list comprehension to continue\n",
    "# on a new line. While not strictly necessary, it makes code more readable\n",
    "# for your fellow programmers.\n",
    "screen_names = [ user_mention['screen_name'] for status in statuses \\\n",
    "                for user_mention in status['entities']['user_mentions'] ]\n",
    "\n",
    "hashtags = [ hashtag['text'] for status in statuses \\\n",
    "        for hashtag in status['entities']['hashtags'] ]\n",
    "\n",
    "# Compute a collection of all words from all tweets\n",
    "words = [ w for t in status_texts for w in t.split() ] #split the string on the empty spaces\n",
    "\n",
    "# Explore the first 5 items for each...\n",
    "print(json.dumps(status_texts[0:5], indent=1))\n",
    "print(json.dumps(screen_names[0:5], indent=1))\n",
    "print(json.dumps(hashtags[0:5], indent=1))\n",
    "print(json.dumps(words[0:5], indent=1))"
   ]
  },
  {
   "cell_type": "markdown",
   "metadata": {},
   "source": [
    "### Task 3\n",
    "\n",
    "You are now ready to parse usernames, hashtags and text from the results you previously obtained in Task 2 (e.g. `statuses_2`). While doing it, make sure to leave the variables created in 2.2 untouched. Instead, create your own variable names, which you'll be using soon.\n"
   ]
  },
  {
   "cell_type": "code",
   "execution_count": 69,
   "metadata": {},
   "outputs": [
    {
     "name": "stdout",
     "output_type": "stream",
     "text": [
      "[\n",
      " \"@KosiniakKamysz @szymon_holownia \\u015awietny spot #szymonholownia. Prosz\\u0119 odnie\\u015b\\u0107 si\\u0119 do jego meritum i nie do\\u0142\\u0105cza\\u0107 do\\u2026 https://t.co/ZdekVBrAJy\",\n",
      " \"RT @bwalejko: Ludzie pytaj\\u0105: Czy @szymon_holownia da sobie rad\\u0119 z polityk\\u0105, \\u017ce to trudne. Ja Wam m\\u00f3wi\\u0119: To polityka b\\u0119dzie musia\\u0142a da\\u0107 sobi\\u2026\",\n",
      " \"RT @bwalejko: Ludzie pytaj\\u0105: Czy @szymon_holownia da sobie rad\\u0119 z polityk\\u0105, \\u017ce to trudne. Ja Wam m\\u00f3wi\\u0119: To polityka b\\u0119dzie musia\\u0142a da\\u0107 sobi\\u2026\",\n",
      " \"RT @bwalejko: Ludzie pytaj\\u0105: Czy @szymon_holownia da sobie rad\\u0119 z polityk\\u0105, \\u017ce to trudne. Ja Wam m\\u00f3wi\\u0119: To polityka b\\u0119dzie musia\\u0142a da\\u0107 sobi\\u2026\",\n",
      " \"Ludzie pytaj\\u0105: Czy @szymon_holownia da sobie rad\\u0119 z polityk\\u0105, \\u017ce to trudne. Ja Wam m\\u00f3wi\\u0119: To polityka b\\u0119dzie musia\\u0142\\u2026 https://t.co/gE9WjWBcYn\"\n",
      "]\n",
      "[\n",
      " \"KosiniakKamysz\",\n",
      " \"szymon_holownia\",\n",
      " \"bwalejko\",\n",
      " \"szymon_holownia\",\n",
      " \"bwalejko\"\n",
      "]\n",
      "[\n",
      " \"szymonholownia\"\n",
      "]\n",
      "[\n",
      " \"@KosiniakKamysz\",\n",
      " \"@szymon_holownia\",\n",
      " \"\\u015awietny\",\n",
      " \"spot\",\n",
      " \"#szymonholownia.\"\n",
      "]\n"
     ]
    }
   ],
   "source": [
    "status_texts2 = [status['text'] for status in statuses2]\n",
    "\n",
    "screen_names2 = [user_mention['screen_name'] for status in statuses2 \\\n",
    "                 for user_mention in status['entities']['user_mentions']]\n",
    "\n",
    "hashtags2 = [hashtag['text'] for status in statuses2 \\\n",
    "             for hashtag in status['entities']['hashtags']]\n",
    "\n",
    "words2 = [w for t in status_texts2 for w in t.split()]\n",
    "\n",
    "print(json.dumps(status_texts2[0:5], indent=1))\n",
    "print(json.dumps(screen_names2[0:5], indent=1))\n",
    "print(json.dumps(hashtags2[0:5], indent=1))\n",
    "print(json.dumps(words2[0:5], indent=1))"
   ]
  },
  {
   "cell_type": "markdown",
   "metadata": {},
   "source": [
    "## Part 3: Creating a basic frequency distribution from words in tweets\n",
    "*(from Examples 1-7 in Mining the Social Web)* \n",
    "\n",
    "\n",
    "In the cell below we display the 10 most common hashtag instances:"
   ]
  },
  {
   "cell_type": "code",
   "execution_count": 70,
   "metadata": {},
   "outputs": [
    {
     "name": "stdout",
     "output_type": "stream",
     "text": [
      "[('ThrowbackThursday', 76), ('UCL', 49), ('tbt', 3), ('AfternoonDriveShow', 2), ('NowPlaying', 2), ('throwbackthursday', 2), ('KratosRugby', 1), ('GoodForThat', 1), ('GoodForThatchallenge', 1), ('SKODA', 1)]\n"
     ]
    }
   ],
   "source": [
    "from collections import Counter\n",
    "\n",
    "for item in [words, screen_names, hashtags]:\n",
    "    c = Counter(item)\n",
    "    \n",
    "print(c.most_common()[:10]) # top 10"
   ]
  },
  {
   "cell_type": "markdown",
   "metadata": {},
   "source": [
    "Your output should look something like this: \\\n",
    "`[('ThrowbackThursday', 34), ('throwbackthursday', 11), ('TBT', 6), ('ThrowBackThursday', 6), ('Trivia', 3), ('madoka_magica', 2), ('New', 2), ('EURO2020', 2), ('artists', 2)]`\n",
    "\n",
    "### Task 4\n",
    "Show hashtags frequency for results that you obtained in Task 3. Think about possible explanations for the different results you get from the analyses for the different queries.\n"
   ]
  },
  {
   "cell_type": "code",
   "execution_count": 71,
   "metadata": {},
   "outputs": [
    {
     "name": "stdout",
     "output_type": "stream",
     "text": [
      "[('szymonholownia', 1)]\n"
     ]
    }
   ],
   "source": [
    "for item in [words2, screen_names2, hashtags2]:\n",
    "    c2 = Counter(item)\n",
    "\n",
    "print(c2.most_common()[:10])"
   ]
  },
  {
   "cell_type": "markdown",
   "metadata": {},
   "source": [
    "### 3.1 Storing your results\n",
    "So far, we have been storing the data in working memory. Often it's handy to store your data to disk so you can retrieve it in a next session. \n",
    "\n",
    "The pickle module lets you do exactly that, by serializing data in a binary format.\n"
   ]
  },
  {
   "cell_type": "code",
   "execution_count": 72,
   "metadata": {},
   "outputs": [],
   "source": [
    "import pickle\n",
    "\n",
    "filepath = \"my_data.pickle\"\n",
    "# this indented python syntax is broadly defined as \"context manager\".\n",
    "# This means that everything happening under its indentation will use f\n",
    "# as file handle to filepath. The Shortand `wb` stands for \"write binary\",\n",
    "# which is how we serialize data to disk.\n",
    "with open(filepath, \"wb\") as f:\n",
    "    pickle.dump(words, f) # write the contents of list 'words' to file 'f'\n",
    "    \n",
    "# Note that, after the end of the indented block, the file is automatically closed.\n",
    "# Hence, no memory resource on your system is wasted idly."
   ]
  },
  {
   "cell_type": "markdown",
   "metadata": {},
   "source": [
    "If you browse to your working directory, you should find a file there named \"myData.pickle\". You can open this in a text editor, or load its contents back into a variable to do some more analyses on.\n"
   ]
  },
  {
   "cell_type": "code",
   "execution_count": 73,
   "metadata": {},
   "outputs": [
    {
     "name": "stdout",
     "output_type": "stream",
     "text": [
      "['RT', '@ChampionsLeague:', '🇧🇷', 'Ronaldinho', \"ballin'\", 'out', 'against', 'AC', 'Milan', 'in', '2006', '😎', '#UCL', '|', '#ThrowbackThursday', 'https://t.co/UamHlVSmQV', 'RT', '@TorosenDonosti:', '👀🔙', 'Hoy', 'nos', 'vamos', '20', 'años', 'atrás', 'para', 'recordar', 'la', 'faena', 'de', 'José', 'Tomás', 'en', 'la', 'Semana', 'Grande', 'Donostiarra', '😍', '#tbt', '#throwba…', 'RT', '@ChampionsLeague:', '🇧🇷', 'Ronaldinho', \"ballin'\", 'out', 'against', 'AC', 'Milan', 'in', '2006', '😎', '#UCL', '|', '#ThrowbackThursday', 'https://t.co/UamHlVSmQV', 'RT', '@ChampionsLeague:', '🇧🇷', 'Ronaldinho', \"ballin'\", 'out', 'against', 'AC', 'Milan', 'in', '2006', '😎', '#UCL', '|', '#ThrowbackThursday', 'https://t.co/UamHlVSmQV', 'RT', '@G2esports:', 'Los', 'sueños', 'se', 'hacen', 'realidad', '@IbaiLlanos', '❤️', '🇪🇸', '#ThrowbackThursday', 'https://t.co/UxSsXSZQ2i', 'RT', '@kratosrugby:', '#ThrowbackThursday', 'Henry', 'Musisi', 'and', 'Kyadondo', '-', 'a', 'love', 'story', 'that', 'always', 'gives.', '#KratosRugby', 'https://t.co/yDwOP1MWhA', 'RT', '@EUmschau:', '#ThrowbackThursday', '💚', 'Dieses', 'Mal', 'mit', 'der', 'Online', 'Fortbildung', 'aus', '2015:', 'Pathophysiologie', 'und', 'Ernährungsaspekte', 'der', 'Nicht-alkohol…', 'RT', '@G2esports:', 'Los', 'sueños', 'se', 'hacen', 'realidad', '@IbaiLlanos', '❤️', '🇪🇸', '#ThrowbackThursday', 'https://t.co/UxSsXSZQ2i', 'RT', '@Mr_LuckyMtshali:', 'Ke', 'Hip', 'Haaap', 'Doggo!!!!!', 'Cass', 'Been', 'Saying', '😁😁', 'Issa', 'THROWBACK', '@casspernyovest', '#GoodForThat', '#GoodForThatchallenge', '#Thro…', 'RT', '@kratosrugby:', '#ThrowbackThursday', 'It', 'is', '@piratesrugbyUG', 'entertaining', '@Warriorsrugbyug', 'this', 'weekend', 'at', 'Kings', 'Park', 'and', 'it', 'is', 'only', 'right', 'we…', 'RT', '@ChampionsLeague:', '🇧🇷', 'Ronaldinho', \"ballin'\", 'out', 'against', 'AC', 'Milan', 'in', '2006', '😎', '#UCL', '|', '#ThrowbackThursday', 'https://t.co/UamHlVSmQV', 'RT', '@ChampionsLeague:', '🇧🇷', 'Ronaldinho', \"ballin'\", 'out', 'against', 'AC', 'Milan', 'in', '2006', '😎', '#UCL', '|', '#ThrowbackThursday', 'https://t.co/UamHlVSmQV', 'RT', '@skodaautonews:', '#SKODA', 'is', 'celebrating', '#125years!', 'As', 'a', 'special', 'treat', 'for', 'you,', \"we've\", 'prepared', '1️⃣2️⃣5️⃣', 'tweets', 'about', 'the', 'Czech', 'carmaker.', 'E…', 'RT', '@ChampionsLeague:', '🇧🇷', 'Ronaldinho', \"ballin'\", 'out', 'against', 'AC', 'Milan', 'in', '2006', '😎', '#UCL', '|', '#ThrowbackThursday', 'https://t.co/UamHlVSmQV', 'Mama’s', 'always', 'got', 'a', 'plan.', '#Thursday', '#Super', '#live', '#love', '#new', '#song', '#jazz', '#blues', '#piano', '#band', '#record', '#studio', '#cue…', 'https://t.co/X8eCj53zFs', 'RT', '@amkingphoto:', '#ThrowbackThursday', \"Winter's\", 'Past', '#Northumberland', '#WhatHappenedToWinter', '#StormHour', 'https://t.co/zRsvQhicDA', 'RT', '@ChampionsLeague:', '🇧🇷', 'Ronaldinho', \"ballin'\", 'out', 'against', 'AC', 'Milan', 'in', '2006', '😎', '#UCL', '|', '#ThrowbackThursday', 'https://t.co/UamHlVSmQV', 'RT', '@Journeyman_NG:', 'Do', 'you', 'remember', 'this', 'Volkswagen', 'Beetle', 'Type', '1?', 'Some', 'call', 'it', '\"Turtle\",', 'and', 'some', 'called', 'it', '\"Ijapa\".', '#ThrowbackThursday', 'Lo…', 'RT', '@CarveHerName:', '#OnThisDay,', '6', 'Feb', '1918,', 'the', 'Representation', 'of', 'the', 'People', 'Act', 'receives', 'royal', 'assent,', 'allowing', 'some', 'women', 'the', 'right', 'to', 'vote…', 'RT', '@ChampionsLeague:', '🇧🇷', 'Ronaldinho', \"ballin'\", 'out', 'against', 'AC', 'Milan', 'in', '2006', '😎', '#UCL', '|', '#ThrowbackThursday', 'https://t.co/UamHlVSmQV', 'RT', '@ChampionsLeague:', '🇧🇷', 'Ronaldinho', \"ballin'\", 'out', 'against', 'AC', 'Milan', 'in', '2006', '😎', '#UCL', '|', '#ThrowbackThursday', 'https://t.co/UamHlVSmQV', 'RT', '@ChampionsLeague:', '🇧🇷', 'Ronaldinho', \"ballin'\", 'out', 'against', 'AC', 'Milan', 'in', '2006', '😎', '#UCL', '|', '#ThrowbackThursday', 'https://t.co/UamHlVSmQV', 'RT', '@RCBTweets:', 'May', '17,', '2018.', 'Batting', 'first,', 'the', 'team', 'put', 'up', 'a', 'massive', 'total', 'of', '218', 'runs.', 'The', 'major', 'contributors', 'were', 'Moeen', 'Ali', 'and', 'ABD,', 'sc…', 'RT', '@ChampionsLeague:', '🇧🇷', 'Ronaldinho', \"ballin'\", 'out', 'against', 'AC', 'Milan', 'in', '2006', '😎', '#UCL', '|', '#ThrowbackThursday', 'https://t.co/UamHlVSmQV', 'RT', '@G2esports:', 'Los', 'sueños', 'se', 'hacen', 'realidad', '@IbaiLlanos', '❤️', '🇪🇸', '#ThrowbackThursday', 'https://t.co/UxSsXSZQ2i', 'RT', '@ChampionsLeague:', '🇧🇷', 'Ronaldinho', \"ballin'\", 'out', 'against', 'AC', 'Milan', 'in', '2006', '😎', '#UCL', '|', '#ThrowbackThursday', 'https://t.co/UamHlVSmQV', 'RT', '@LigadeCampeones:', '🇧🇷', '@10Ronaldinho,', 'contra', 'el', 'AC', 'Milan', 'en', '2006', '😎', '#UCL', '|', '#ThrowbackThursday', 'https://t.co/uPwAdc8GPu', 'RT', '@ChampionsLeague:', '🇧🇷', 'Ronaldinho', \"ballin'\", 'out', 'against', 'AC', 'Milan', 'in', '2006', '😎', '#UCL', '|', '#ThrowbackThursday', 'https://t.co/UamHlVSmQV', 'RT', '@ChampionsLeague:', '🇧🇷', 'Ronaldinho', \"ballin'\", 'out', 'against', 'AC', 'Milan', 'in', '2006', '😎', '#UCL', '|', '#ThrowbackThursday', 'https://t.co/UamHlVSmQV', 'RT', '@ChampionsLeague:', '🇧🇷', 'Ronaldinho', \"ballin'\", 'out', 'against', 'AC', 'Milan', 'in', '2006', '😎', '#UCL', '|', '#ThrowbackThursday', 'https://t.co/UamHlVSmQV', '#ThrowbackThursday', '@guardian', '?', 'https://t.co/5iP8vFxllI', '#ThrowbackThursday', 'another', 'then', 'and', 'now', 'from', '@TheAJNStadium', '2018', 'saw', 'the', 'major', 'refurbishment', 'of', 'our', 'lounge', 'bar', 'in…', 'https://t.co/KZIG6EQCb7', 'RT', '@PizzaExpress:', '🚨', 'BIG', 'NEWS', '🚨', \"We've\", 'brought', 'back', '3', 'of', 'your', 'favourites', 'from', 'the', 'past', '55', 'years,', 'exclusively', 'via', '@Deliveroo', 'Not', 'only', 'that,', 'i…', 'Ticker', 'tapes', 'were', 'invented', 'in', '1867', 'by', 'Edward', 'A.', 'Calahan,', 'Tape', 'reading', 'is', 'an', 'old', 'technique', 'that', 'day', 'traders', 'used', 'to…', 'https://t.co/1wmtMyi0G9', '#ThrowbackThursday', \"'The\", 'House', 'of', \"York'\", 'by', 'Terry', 'Tyler.', 'Reviewed', 'by', 'Julie', 'in', 'March', '2017', 'and', 'awarded', 'five', 'stars.', \"'If…\", 'https://t.co/FplrcLZOkk', 'RT', '@ChampionsLeague:', '🇧🇷', 'Ronaldinho', \"ballin'\", 'out', 'against', 'AC', 'Milan', 'in', '2006', '😎', '#UCL', '|', '#ThrowbackThursday', 'https://t.co/UamHlVSmQV', 'Episode', '17', '-', 'Flamboyant', 'siblings,', 'Alphabetic', '#coins', 'and', 'We', 'talk', 'about', '#celebrities', '#kindness', '-…', 'https://t.co/xs4fv7sTLN', 'POP', 'QUIZ', '✏️:', 'What', 'is', 'the', 'name', 'of', 'this', '#RC??', 'Hint:', 'This', 'race-bred', 'buggy', 'was', 'the', 'predecessor', 'to', 'the', '#Traxxas', 'Bandit.…', 'https://t.co/m4jsAnpIoP', 'RT', '@ChampionsLeague:', '🇧🇷', 'Ronaldinho', \"ballin'\", 'out', 'against', 'AC', 'Milan', 'in', '2006', '😎', '#UCL', '|', '#ThrowbackThursday', 'https://t.co/UamHlVSmQV', 'RT', '@ChampionsLeague:', '🇧🇷', 'Ronaldinho', \"ballin'\", 'out', 'against', 'AC', 'Milan', 'in', '2006', '😎', '#UCL', '|', '#ThrowbackThursday', 'https://t.co/UamHlVSmQV', 'RT', '@ChampionsLeague:', '🇧🇷', 'Ronaldinho', \"ballin'\", 'out', 'against', 'AC', 'Milan', 'in', '2006', '😎', '#UCL', '|', '#ThrowbackThursday', 'https://t.co/UamHlVSmQV', 'RT', '@newslaundry:', '#ThrowbackThursday:', 'Jab', 'Prime', 'Minister', 'Narendra', 'Modi', 'met', 'Indian', 'journalists😅', 'https://t.co/6rNBxZ6hWl', 'RT', '@ChampionsLeague:', '🇧🇷', 'Ronaldinho', \"ballin'\", 'out', 'against', 'AC', 'Milan', 'in', '2006', '😎', '#UCL', '|', '#ThrowbackThursday', 'https://t.co/UamHlVSmQV', 'RT', '@ChampionsLeague:', '🇧🇷', 'Ronaldinho', \"ballin'\", 'out', 'against', 'AC', 'Milan', 'in', '2006', '😎', '#UCL', '|', '#ThrowbackThursday', 'https://t.co/UamHlVSmQV', 'RT', '@G2esports:', 'Los', 'sueños', 'se', 'hacen', 'realidad', '@IbaiLlanos', '❤️', '🇪🇸', '#ThrowbackThursday', 'https://t.co/UxSsXSZQ2i', 'Ten', 'years', 'ago,', 'right', 'across', 'was', 'a', 'wide', 'open', 'field', 'where', 'kids', 'fly', 'kites', 'on', 'a', 'windy', 'day.', '😊⛅🍃', 'Rainy', 'days', '&amp;', 'Thursdays…', 'https://t.co/pY156V85JN', 'RT', '@Journeyman_NG:', 'Do', 'you', 'remember', 'this', 'Volkswagen', 'Beetle', 'Type', '1?', 'Some', 'call', 'it', '\"Turtle\",', 'and', 'some', 'called', 'it', '\"Ijapa\".', '#ThrowbackThursday', 'Lo…', '#fun', '#instagramers', '#model', '#me', '#food', '#smile', '#pretty', '#followme', '#nature', '#lol', '#dog', '#hair', '#sunset', '#swag…', 'https://t.co/XF32RvV0MS', 'RT', '@ChampionsLeague:', '🇧🇷', 'Ronaldinho', \"ballin'\", 'out', 'against', 'AC', 'Milan', 'in', '2006', '😎', '#UCL', '|', '#ThrowbackThursday', 'https://t.co/UamHlVSmQV', 'RT', '@ChampionsLeague:', '🇧🇷', 'Ronaldinho', \"ballin'\", 'out', 'against', 'AC', 'Milan', 'in', '2006', '😎', '#UCL', '|', '#ThrowbackThursday', 'https://t.co/UamHlVSmQV', 'RT', '@ChampionsLeague:', '🇧🇷', 'Ronaldinho', \"ballin'\", 'out', 'against', 'AC', 'Milan', 'in', '2006', '😎', '#UCL', '|', '#ThrowbackThursday', 'https://t.co/UamHlVSmQV', '#AfternoonDriveShow', 'with', '@shyTALKactive', '@_paschalito', '-', '#NowPlaying', 'Carolina', ':', '@SinzuSMG', 'Feat.', '@davido…', 'https://t.co/paYay9wCLO', 'RT', '@oppomobileng:', 'It’s', '#ThrowbackThursday', 'Who', 'else', 'misses', 'the', '#BBNaija', 'ships?', '😁🥰', 'We', 'do!', '💕', 'Which', 'of', 'this', 'ships', 'was', 'your', 'fav?!', 'RT', 'for', '#Meri…', '#AfternoonDriveShow', 'with', '@shyTALKactive', '@_paschalito', '-', '#NowPlaying', 'Holla', 'At', 'Your', 'Boy', ':', '@wizkidayo…', 'https://t.co/oJ7PL57svw', 'RT', '@Bones4L:', '#ThrowbackThursday', 'https://t.co/aV4onWZXrg', 'NP', 'Back', 'N', 'Forth', '-', '@AaliyahHaughton', 'ft', 'R.kelly', '//', '#TheMiddayExpress', 'With', '@Oma_Iam', 'MixBy', '@DJ_FX2', '#ThrowBackThursday', 'https://t.co/6wyuZ9qb9r', 'RT', '@ChampionsLeague:', '🇧🇷', 'Ronaldinho', \"ballin'\", 'out', 'against', 'AC', 'Milan', 'in', '2006', '😎', '#UCL', '|', '#ThrowbackThursday', 'https://t.co/UamHlVSmQV', 'RT', '@mandelarw:', '#TBT', 'Gloomy', 'weather', 'and', 'rain', 'were', 'never', 'going', 'to', 'put', 'a', 'dampener', 'on', 'the', 'annual', '#MandelaRWR', '🕺🏽💃🏻', '🎉', '@NelsonMandela', '@GautengSAC…', 'RT', '@RCBTweets:', 'May', '17,', '2018.', 'Batting', 'first,', 'the', 'team', 'put', 'up', 'a', 'massive', 'total', 'of', '218', 'runs.', 'The', 'major', 'contributors', 'were', 'Moeen', 'Ali', 'and', 'ABD,', 'sc…', 'RT', '@ChampionsLeague:', '🇧🇷', 'Ronaldinho', \"ballin'\", 'out', 'against', 'AC', 'Milan', 'in', '2006', '😎', '#UCL', '|', '#ThrowbackThursday', 'https://t.co/UamHlVSmQV', 'Wyścig', 'Tatrzański', '(Tatra', 'Race)', 'Hillclimb,', '#Zakopane🇵🇱', 'Jan', 'Ripper🇵🇱KR-6920', '#Bugatti', 'T37A', 'Sport', '🇫🇷', 'August', '19,', '1928…', 'https://t.co/Vn7WXi29FH', 'RT', '@ChampionsLeague:', '🇧🇷', 'Ronaldinho', \"ballin'\", 'out', 'against', 'AC', 'Milan', 'in', '2006', '😎', '#UCL', '|', '#ThrowbackThursday', 'https://t.co/UamHlVSmQV', 'RT', '@ChampionsLeague:', '🇧🇷', 'Ronaldinho', \"ballin'\", 'out', 'against', 'AC', 'Milan', 'in', '2006', '😎', '#UCL', '|', '#ThrowbackThursday', 'https://t.co/UamHlVSmQV', \"It's\", '#ThrowbackThursday', 'folks!', \"@SaintKotar's\", 'tavern', 'Gorski', 'has', 'undergone', 'quite', 'the', 'transformation', 'during', 'the', 'devel…', 'https://t.co/32ZIPPOvwp', '#ThrowbackThursday', '#iwascute', '#wtfhappened', 'https://t.co/NIaLKRha42', 'RT', '@G2esports:', 'Los', 'sueños', 'se', 'hacen', 'realidad', '@IbaiLlanos', '❤️', '🇪🇸', '#ThrowbackThursday', 'https://t.co/UxSsXSZQ2i', 'RT', '@ChampionsLeague:', '🇧🇷', 'Ronaldinho', \"ballin'\", 'out', 'against', 'AC', 'Milan', 'in', '2006', '😎', '#UCL', '|', '#ThrowbackThursday', 'https://t.co/UamHlVSmQV', 'Yr', '#henluniau', 'heddiw', 'ydi', 'traeth', '#Criccieth', 'o', 'tua', '1920.', 'Diolch', 'i', 'Wasanaeth', 'Archif', 'Cyngor', 'Gwynedd', 'am', 'y', 'llun', '//', \"Today'…\", 'https://t.co/vjpaNTcohS', '#BlackHistoryMonth', '#ThrowbackThursday', '#SteveBiko', 'A', 'Martyr', 'For', 'Freedom', '“It', 'is', 'better', 'to', 'die', 'for', 'an', 'idea', 'that', 'will', 'li…', 'https://t.co/pZnDtoM9r6', 'RT', '@ChampionsLeague:', '🇧🇷', 'Ronaldinho', \"ballin'\", 'out', 'against', 'AC', 'Milan', 'in', '2006', '😎', '#UCL', '|', '#ThrowbackThursday', 'https://t.co/UamHlVSmQV', 'RT', '@LigadeCampeones:', '🇧🇷', '@10Ronaldinho,', 'contra', 'el', 'AC', 'Milan', 'en', '2006', '😎', '#UCL', '|', '#ThrowbackThursday', 'https://t.co/uPwAdc8GPu', 'RT', '@ChampionsLeague:', '🇧🇷', 'Ronaldinho', \"ballin'\", 'out', 'against', 'AC', 'Milan', 'in', '2006', '😎', '#UCL', '|', '#ThrowbackThursday', 'https://t.co/UamHlVSmQV', 'RT', '@GraupelJapan:', '2020.01.04', 'SHINJUKU', 'ANTIKNOCK', 'Graupel', '-', 'Bereavement', 'https://t.co/lwXZNxqax0', '#ThrowbackThursday', '#throwback', 'https://t.…', '#FestiMobil', '|', '#throwbackthursday', '|', '#tbt', '|', '#roa17', 'https://t.co/iTkcGnoDwi', 'RT', '@tootingnewsie:', '#ThrowbackThursday', '–', 'Wolfie', 'Smith', '(played', 'by', '@RobertLindsay)', 'emerges', 'from', '#Tooting', 'Broadway', 'station', 'in', 'the', 'intro', 'to', 'the…', 'RT', '@ChampionsLeague:', '🇧🇷', 'Ronaldinho', \"ballin'\", 'out', 'against', 'AC', 'Milan', 'in', '2006', '😎', '#UCL', '|', '#ThrowbackThursday', 'https://t.co/UamHlVSmQV', 'RT', '@ChampionsLeague:', '🇧🇷', 'Ronaldinho', \"ballin'\", 'out', 'against', 'AC', 'Milan', 'in', '2006', '😎', '#UCL', '|', '#ThrowbackThursday', 'https://t.co/UamHlVSmQV', 'RT', '@ChampionsLeague:', '🇧🇷', 'Ronaldinho', \"ballin'\", 'out', 'against', 'AC', 'Milan', 'in', '2006', '😎', '#UCL', '|', '#ThrowbackThursday', 'https://t.co/UamHlVSmQV', 'RT', '@ChampionsLeague:', '🇧🇷', 'Ronaldinho', \"ballin'\", 'out', 'against', 'AC', 'Milan', 'in', '2006', '😎', '#UCL', '|', '#ThrowbackThursday', 'https://t.co/UamHlVSmQV', 'RT', '@Journeyman_NG:', 'Do', 'you', 'remember', 'this', 'Volkswagen', 'Beetle', 'Type', '1?', 'Some', 'call', 'it', '\"Turtle\",', 'and', 'some', 'called', 'it', '\"Ijapa\".', '#ThrowbackThursday', 'Lo…', '#throwbackthursday', 'Lolo', '&amp;', 'Shirley!', '#Repost', '@LaurenHope84', 'with', '@get_repost', '・・・', '#tbt', 'to', 'our', 'storytelling', 'night', 'last…', 'https://t.co/J3HguKcoKh', '#ThrowbackThursday', 'remembering', 'when', 'Annie', '#Kenney,', 'Emmeline', '#Pankhurst,', 'Emmeline', '#PethickLawrence', 'visited…', 'https://t.co/kQ9YoGCQ17', 'RT', '@ChampionsLeague:', '🇧🇷', 'Ronaldinho', \"ballin'\", 'out', 'against', 'AC', 'Milan', 'in', '2006', '😎', '#UCL', '|', '#ThrowbackThursday', 'https://t.co/UamHlVSmQV', 'ooooh', '#ThrowbackThursday', 'on', 'Spotify', 'today', 'is', 'all', 'film', 'soundtracks!', 'RT', '@ChampionsLeague:', '🇧🇷', 'Ronaldinho', \"ballin'\", 'out', 'against', 'AC', 'Milan', 'in', '2006', '😎', '#UCL', '|', '#ThrowbackThursday', 'https://t.co/UamHlVSmQV', 'RT', '@ChampionsLeague:', '🇧🇷', 'Ronaldinho', \"ballin'\", 'out', 'against', 'AC', 'Milan', 'in', '2006', '😎', '#UCL', '|', '#ThrowbackThursday', 'https://t.co/UamHlVSmQV', 'RT', '@RCBTweets:', 'May', '17,', '2018.', 'Batting', 'first,', 'the', 'team', 'put', 'up', 'a', 'massive', 'total', 'of', '218', 'runs.', 'The', 'major', 'contributors', 'were', 'Moeen', 'Ali', 'and', 'ABD,', 'sc…', '#ThrowbackThursday', '#SportJustGotBetter', '🏈', 'On', 'this', 'day', 'in', '2011', 'Super', 'Bowl', 'XLV,', 'Cowboys', 'Stadium,', 'Arlington,', 'TX:', 'Green…', 'https://t.co/KQejwfqPvo', 'RT', '@ChampionsLeague:', '🇧🇷', 'Ronaldinho', \"ballin'\", 'out', 'against', 'AC', 'Milan', 'in', '2006', '😎', '#UCL', '|', '#ThrowbackThursday', 'https://t.co/UamHlVSmQV', 'RT', '@marvelous_games:', 'Seeing', 'this', 'GIF', 'has', 'just', 'reminded', 'us', 'that', 'it', 'is', 'Pancake', 'day', 'in', '19', 'days...', 'at', 'which', 'point', 'I', 'will', 'use', 'this', 'GIF', 'again.', '🤩🤩…', 'RT', '@CPL:', 'Throwback', 'Thursday', 'to', 'when', 'Narine', 'bowled', 'a', 'maiden', 'super', 'over!', 'Now', 'that’s', 'cricket', 'played', 'louder!!!', '#CPL', '#ThrowbackThursday', '#Cricket…', 'RT', '@ChampionsLeague:', '🇧🇷', 'Ronaldinho', \"ballin'\", 'out', 'against', 'AC', 'Milan', 'in', '2006', '😎', '#UCL', '|', '#ThrowbackThursday', 'https://t.co/UamHlVSmQV', 'RT', '@ChampionsLeague:', '🇧🇷', 'Ronaldinho', \"ballin'\", 'out', 'against', 'AC', 'Milan', 'in', '2006', '😎', '#UCL', '|', '#ThrowbackThursday', 'https://t.co/UamHlVSmQV', 'RT', '@ChampionsLeague:', '🇧🇷', 'Ronaldinho', \"ballin'\", 'out', 'against', 'AC', 'Milan', 'in', '2006', '😎', '#UCL', '|', '#ThrowbackThursday', 'https://t.co/UamHlVSmQV', 'RT', '@ChampionsLeague:', '🇧🇷', 'Ronaldinho', \"ballin'\", 'out', 'against', 'AC', 'Milan', 'in', '2006', '😎', '#UCL', '|', '#ThrowbackThursday', 'https://t.co/UamHlVSmQV', 'RT', '@ChampionsLeague:', '🇧🇷', 'Ronaldinho', \"ballin'\", 'out', 'against', 'AC', 'Milan', 'in', '2006', '😎', '#UCL', '|', '#ThrowbackThursday', 'https://t.co/UamHlVSmQV', 'RT', '@ChampionsLeague:', '🇧🇷', 'Ronaldinho', \"ballin'\", 'out', 'against', 'AC', 'Milan', 'in', '2006', '😎', '#UCL', '|', '#ThrowbackThursday', 'https://t.co/UamHlVSmQV', 'RT', '@ChampionsLeague:', '🇧🇷', 'Ronaldinho', \"ballin'\", 'out', 'against', 'AC', 'Milan', 'in', '2006', '😎', '#UCL', '|', '#ThrowbackThursday', 'https://t.co/UamHlVSmQV', 'RT', '@TonbridgeSport:', 'It', 'may', 'seem', 'a', 'long', 'way', 'off', 'but', 'congratulations', 'to', '@AldroSport', 'alumni', '&amp;', 'current', '@GuildfordCC', 'player', 'Freddie', 'Geffen', 'who', 'h…', 'RT', '@ChampionsLeague:', '🇧🇷', 'Ronaldinho', \"ballin'\", 'out', 'against', 'AC', 'Milan', 'in', '2006', '😎', '#UCL', '|', '#ThrowbackThursday', 'https://t.co/UamHlVSmQV']\n"
     ]
    }
   ],
   "source": [
    "# open the myData.pickle file and store its contents into variable 'words'\n",
    "\n",
    "with open(filepath, \"rb\") as f:\n",
    "    words = pickle.load(f)\n",
    "print(words)"
   ]
  },
  {
   "cell_type": "markdown",
   "metadata": {},
   "source": [
    "### 3.2 Using prettytable to display tuples in a nice way\n",
    "\n"
   ]
  },
  {
   "cell_type": "code",
   "execution_count": 74,
   "metadata": {},
   "outputs": [
    {
     "name": "stdout",
     "output_type": "stream",
     "text": [
      "+--------------------+-------+\n",
      "| Word               | Count |\n",
      "+--------------------+-------+\n",
      "| RT                 |    79 |\n",
      "| #ThrowbackThursday |    75 |\n",
      "| in                 |    52 |\n",
      "| |                  |    52 |\n",
      "| 🇧🇷                 |    49 |\n",
      "| AC                 |    49 |\n",
      "| Milan              |    49 |\n",
      "| 2006               |    49 |\n",
      "| 😎                  |    49 |\n",
      "| #UCL               |    49 |\n",
      "+--------------------+-------+\n",
      "+-----------------+-------+\n",
      "| Screen Name     | Count |\n",
      "+-----------------+-------+\n",
      "| ChampionsLeague |    47 |\n",
      "| G2esports       |     5 |\n",
      "| IbaiLlanos      |     5 |\n",
      "| Journeyman_NG   |     3 |\n",
      "| RCBTweets       |     3 |\n",
      "| kratosrugby     |     2 |\n",
      "| LigadeCampeones |     2 |\n",
      "| 10Ronaldinho    |     2 |\n",
      "| shyTALKactive   |     2 |\n",
      "| _paschalito     |     2 |\n",
      "+-----------------+-------+\n",
      "+----------------------+-------+\n",
      "| Hashtag              | Count |\n",
      "+----------------------+-------+\n",
      "| ThrowbackThursday    |    76 |\n",
      "| UCL                  |    49 |\n",
      "| tbt                  |     3 |\n",
      "| AfternoonDriveShow   |     2 |\n",
      "| NowPlaying           |     2 |\n",
      "| throwbackthursday    |     2 |\n",
      "| KratosRugby          |     1 |\n",
      "| GoodForThat          |     1 |\n",
      "| GoodForThatchallenge |     1 |\n",
      "| SKODA                |     1 |\n",
      "+----------------------+-------+\n"
     ]
    }
   ],
   "source": [
    "from prettytable import PrettyTable\n",
    "for label, data in (('Word', words),\n",
    "                    ('Screen Name', screen_names),\n",
    "                    ('Hashtag', hashtags)):\n",
    "    pt = PrettyTable(field_names=[label, 'Count'])\n",
    "    c = Counter(data)\n",
    "    [ pt.add_row(kv) for kv in c.most_common()[:10] ]\n",
    "    pt.align[label], pt.align['Count'] = 'l', 'r' # Set column alignment\n",
    "    print(pt) "
   ]
  },
  {
   "cell_type": "markdown",
   "metadata": {},
   "source": [
    "### 3.3 Calculating lexical diversity for tweets \n",
    "*(from Example 1-9 in Mining the Social Web)*:"
   ]
  },
  {
   "cell_type": "code",
   "execution_count": 75,
   "metadata": {},
   "outputs": [
    {
     "name": "stdout",
     "output_type": "stream",
     "text": [
      "0.3515151515151515\n",
      "0.4166666666666667\n",
      "0.35353535353535354\n",
      "16.5\n"
     ]
    }
   ],
   "source": [
    "# Define a function for computing lexical diversity\n",
    "def lexical_diversity(tokens):\n",
    "    return 1.0*len(set(tokens))/len(tokens)\n",
    "\n",
    "# Define a function for computing the average number of words per tweet\n",
    "def average_words(statuses):\n",
    "    total_words = sum([ len(s.split()) for s in statuses ])\n",
    "    return 1.0*total_words/len(statuses) \n",
    "\n",
    "# Let's use these functions:\n",
    "\n",
    "print(lexical_diversity(words))\n",
    "print(lexical_diversity(screen_names))\n",
    "print(lexical_diversity(hashtags))\n",
    "print(average_words(status_texts))"
   ]
  },
  {
   "cell_type": "markdown",
   "metadata": {},
   "source": [
    "### Task 5: What do the printed numbers indicate? Try to explain them.\n",
    "\n",
    "(*Double click this cell to write your answer*)\n",
    "\n",
    "They indicate that tweets are quite short (16.5 words on average). That would be equal to 2 sentences. Other indicator is that lexical_dviersity is pretty low, what means, that for this topic similar words are being used. "
   ]
  },
  {
   "cell_type": "markdown",
   "metadata": {},
   "source": [
    "### 3.4 Finding the most popular retweets \n",
    "*(from Example 1-10 in Mining the Social Web):*"
   ]
  },
  {
   "cell_type": "code",
   "execution_count": 92,
   "metadata": {},
   "outputs": [
    {
     "name": "stdout",
     "output_type": "stream",
     "text": [
      "+-------+-------------+---------------------+----------------------------------------------------+\n",
      "| Count | Screen Name | ID                  | Text                                               |\n",
      "+-------+-------------+---------------------+----------------------------------------------------+\n",
      "| 3     | bwalejko    | 1222996866473910272 | RT @bwalejko: Ludzie pytają: Czy @szymon_holownia  |\n",
      "|       |             |                     | da sobie radę z polityką, że to trudne. Ja Wam     |\n",
      "|       |             |                     | mówię: To polityka będzie musiała dać sobi…        |\n",
      "| 3     | bwalejko    | 1222996866473910272 | RT @bwalejko: Ludzie pytają: Czy @szymon_holownia  |\n",
      "|       |             |                     | da sobie radę z polityką, że to trudne. Ja Wam     |\n",
      "|       |             |                     | mówię: To polityka będzie musiała dać sobi…        |\n",
      "| 3     | bwalejko    | 1222996866473910272 | RT @bwalejko: Ludzie pytają: Czy @szymon_holownia  |\n",
      "|       |             |                     | da sobie radę z polityką, że to trudne. Ja Wam     |\n",
      "|       |             |                     | mówię: To polityka będzie musiała dać sobi…        |\n",
      "+-------+-------------+---------------------+----------------------------------------------------+\n"
     ]
    }
   ],
   "source": [
    "retweet_cnt_un_txt = [(status['retweet_count'],\n",
    "    status['retweeted_status']['user']['screen_name'],\n",
    "    status['retweeted_status']['id'],\n",
    "    status['text'])# Store out a tuple of these three values\n",
    "    for status in statuses2 # for each status\n",
    "    if 'retweeted_status' in status # ... so long as the status meets this condition.\n",
    "    ]\n",
    "\n",
    "# Slice off the first 5 from the sorted results and display each item in the tuple\n",
    "pt = PrettyTable(field_names=['Count', 'Screen Name', 'ID', 'Text'])\n",
    "[ pt.add_row(row) for row in sorted(retweet_cnt_un_txt, reverse=True)[:10] ]\n",
    "pt.max_width['Text'] = 50\n",
    "pt.align= 'l'\n",
    "print(pt)"
   ]
  },
  {
   "cell_type": "markdown",
   "metadata": {},
   "source": [
    "### 3.5 Looking up users who have retweeted a status \n",
    "*(from Example 1-11 in Mining the Social Web):*"
   ]
  },
  {
   "cell_type": "code",
   "execution_count": 93,
   "metadata": {},
   "outputs": [
    {
     "name": "stdout",
     "output_type": "stream",
     "text": [
      "Users who've retweeted the tweet:\n",
      "\n",
      "['gustavitobtz', 'SbEKkITo', 'DJPooh8', 'CRonaldohayran1', 'porjuk_', '01a6225061954c5', 'parleycentro', 'ohs4', 'misterNigeria', 'Baksteen_exe', 'xfrentefriax', 'loco61583934', 'LourdesJadesola', 'bryte_carison', 'TitiHeny14', 'Yanis45976', 'RS_huma', 'Nivlek2018', '1yjeHuJJU6orh4O', 'JayR920', 'Balatic', 'MatiiSuarez5', 'Corujaa22', 'OmobaPaul', 'cmaltahona', 'Dwagg_', 'jhonhurtadog', 'PeacefulSteez', '_oluwagbohunmi', 'AVasquezzz90', 'misugi37', 'hezexidil10', 'ferudunyayla', 'SebaSisyphus', '89andre89', 'clement35833508', 'El_Muhy', 'DjBigMikeHD', 'ceku4cab', 'Sammybenefit1', 'mohamedalio2', 'zeniusboy', 'freddy0811791', 'Richmon05855014', 'neymar5258', 'SargentoCarlos', 'SpittingVenom96', 'kaamarss_kaamar', 'ahmtozdnz', 'Apollov47', 'Bawendi', 'GabrielSjj3', 'J_Paul_360', 'Maico11ch', 'abhijith_anish', 'yonnypraderas', 'Mdfonsecaa', 'kartalll190319', 'sercanka1903', 'jeremy_fillion', 'Mandydadon', 'macelevy20', 'Bhoy___David', 'jmarques_21', 'AlexKomera', 'technogsalad', 'mcfcjoshford32', 'abyodio', 'MohannadSaif5', 'Gunner_237', 'awwal_30', 'dannyvasquezv', 'NicolasGranja20', 'MissFupacabra', 'Ossyphelyx', 'Martinfreyne2', 'kemuri1917', 'Ahmedmahmoud497', 'BestowishA', 'pluto_gramm', 'Timack27', 'Oca44752093', 'jherrymeriels', 'izrra98']\n"
     ]
    }
   ],
   "source": [
    "_retweets = twitter_api.statuses.retweets(id=1225345630488481794, count=100) # Get the original tweet id for a tweet from its retweeted_status node and insert it here\n",
    "print(\"Users who've retweeted the tweet:\\n\")\n",
    "print([r['user']['screen_name'] for r in _retweets])"
   ]
  },
  {
   "cell_type": "markdown",
   "metadata": {},
   "source": [
    "### Task 6 (advanced)\n",
    "\n",
    "If you have a Twitter account with a nontrivial number of tweets, request your historical tweet archive from your account settings and analyze it. \\\n",
    "The export of your account data includes files organized by time period in a convenient JSON format. See the README.txt file included in the downloaded archive for more details. \n",
    "\n",
    "\n",
    "\n",
    "What are the most common terms that appear in your tweets? \\\n",
    "Who do you retweet the most often? \\\n",
    "How many of your tweets are retweeted (and why do you think this is the case)?"
   ]
  },
  {
   "cell_type": "markdown",
   "metadata": {},
   "source": [
    "### 3.6 Plotting frequencies of words \n",
    "*(from Example 1-12 in Mining the Social Web)*\n",
    "\n",
    "\n",
    "In the previous exercises we have been looking at the text from the tweets, but when you retrieved the results, you retrieved much more information about the tweets, such as the username of the person who shared this tweet with the world. \n",
    "\n",
    "\n",
    "You can use this information to find out who retweets whom in our examples. "
   ]
  },
  {
   "cell_type": "code",
   "execution_count": 96,
   "metadata": {},
   "outputs": [
    {
     "data": {
      "image/png": "[encoded data removed]",
      "text/plain": [
       "<Figure size 432x288 with 1 Axes>"
      ]
     },
     "metadata": {
      "needs_background": "light"
     },
     "output_type": "display_data"
    }
   ],
   "source": [
    "word_counts = sorted(Counter(words2).values(), reverse=True)\n",
    "import matplotlib.pyplot as plt\n",
    "plt.loglog(word_counts)\n",
    "plt.ylabel(\"Freq\")\n",
    "plt.xlabel(\"Word Rank\")\n",
    "plt.show()"
   ]
  },
  {
   "cell_type": "markdown",
   "metadata": {},
   "source": [
    "### Generating histograms of words, screen names, and hashtags \n",
    "*(from Example 1-13 in Mining the Social Web):*"
   ]
  },
  {
   "cell_type": "code",
   "execution_count": 97,
   "metadata": {},
   "outputs": [
    {
     "name": "stdout",
     "output_type": "stream",
     "text": [
      "[3, 3, 3]\n"
     ]
    },
    {
     "data": {
      "image/png": "[encoded data removed]",
      "text/plain": [
       "<Figure size 432x288 with 1 Axes>"
      ]
     },
     "metadata": {
      "needs_background": "light"
     },
     "output_type": "display_data"
    }
   ],
   "source": [
    "counts = [count for count, _, _, _ in retweet_cnt_un_txt]\n",
    "plt.hist(counts)\n",
    "plt.title(\"Retweets\")\n",
    "plt.xlabel('Bins (number of times retweeted)')\n",
    "plt.ylabel('Number of tweets in bin')\n",
    "print(counts)\n",
    "plt.show()"
   ]
  },
  {
   "cell_type": "code",
   "execution_count": 98,
   "metadata": {},
   "outputs": [
    {
     "name": "stdout",
     "output_type": "stream",
     "text": [
      "Requirement already satisfied: seaborn in /home/nhemisirmkow/Studia/Erasmus/Zajęcia/SocialVenv/lib/python3.7/site-packages (0.10.0)\r\n",
      "Requirement already satisfied: scipy>=1.0.1 in /home/nhemisirmkow/Studia/Erasmus/Zajęcia/SocialVenv/lib/python3.7/site-packages (from seaborn) (1.4.1)\r\n",
      "Requirement already satisfied: numpy>=1.13.3 in /home/nhemisirmkow/Studia/Erasmus/Zajęcia/SocialVenv/lib/python3.7/site-packages (from seaborn) (1.18.1)\r\n",
      "Requirement already satisfied: pandas>=0.22.0 in /home/nhemisirmkow/Studia/Erasmus/Zajęcia/SocialVenv/lib/python3.7/site-packages (from seaborn) (1.0.1)\r\n",
      "Requirement already satisfied: matplotlib>=2.1.2 in /home/nhemisirmkow/Studia/Erasmus/Zajęcia/SocialVenv/lib/python3.7/site-packages (from seaborn) (3.1.3)\r\n",
      "Requirement already satisfied: pytz>=2017.2 in /home/nhemisirmkow/Studia/Erasmus/Zajęcia/SocialVenv/lib/python3.7/site-packages (from pandas>=0.22.0->seaborn) (2019.3)\r\n",
      "Requirement already satisfied: python-dateutil>=2.6.1 in /home/nhemisirmkow/Studia/Erasmus/Zajęcia/SocialVenv/lib/python3.7/site-packages (from pandas>=0.22.0->seaborn) (2.8.1)\r\n",
      "Requirement already satisfied: kiwisolver>=1.0.1 in /home/nhemisirmkow/Studia/Erasmus/Zajęcia/SocialVenv/lib/python3.7/site-packages (from matplotlib>=2.1.2->seaborn) (1.1.0)\r\n",
      "Requirement already satisfied: cycler>=0.10 in /home/nhemisirmkow/Studia/Erasmus/Zajęcia/SocialVenv/lib/python3.7/site-packages (from matplotlib>=2.1.2->seaborn) (0.10.0)\r\n",
      "Requirement already satisfied: pyparsing!=2.0.4,!=2.1.2,!=2.1.6,>=2.0.1 in /home/nhemisirmkow/Studia/Erasmus/Zajęcia/SocialVenv/lib/python3.7/site-packages (from matplotlib>=2.1.2->seaborn) (2.4.6)\r\n",
      "Requirement already satisfied: six>=1.5 in /home/nhemisirmkow/Studia/Erasmus/Zajęcia/SocialVenv/lib/python3.7/site-packages (from python-dateutil>=2.6.1->pandas>=0.22.0->seaborn) (1.14.0)\r\n",
      "Requirement already satisfied: setuptools in /home/nhemisirmkow/Studia/Erasmus/Zajęcia/SocialVenv/lib/python3.7/site-packages (from kiwisolver>=1.0.1->matplotlib>=2.1.2->seaborn) (40.8.0)\r\n"
     ]
    },
    {
     "data": {
      "image/png": "[encoded data removed]",
      "text/plain": [
       "<Figure size 432x288 with 1 Axes>"
      ]
     },
     "metadata": {
      "needs_background": "light"
     },
     "output_type": "display_data"
    }
   ],
   "source": [
    "# extra: seaborn plots with a one-liner.\n",
    "!pip install seaborn\n",
    "import seaborn as sns\n",
    "\n",
    "sns.distplot(counts, kde=False, rug=True);\n"
   ]
  },
  {
   "cell_type": "code",
   "execution_count": null,
   "metadata": {},
   "outputs": [],
   "source": []
  }
 ],
 "metadata": {
  "kernelspec": {
   "display_name": "Python 3",
   "language": "python",
   "name": "python3"
  },
  "language_info": {
   "codemirror_mode": {
    "name": "ipython",
    "version": 3
   },
   "file_extension": ".py",
   "mimetype": "text/x-python",
   "name": "python",
   "nbconvert_exporter": "python",
   "pygments_lexer": "ipython3",
   "version": "3.7.4"
  }
 },
 "nbformat": 4,
 "nbformat_minor": 2
}
